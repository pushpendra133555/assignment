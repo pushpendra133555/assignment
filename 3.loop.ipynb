{
 "cells": [
  {
   "cell_type": "code",
   "execution_count": 1,
   "id": "71868a80-78dd-4f94-9940-228e4bc4d318",
   "metadata": {},
   "outputs": [],
   "source": [
    "k=[2,3,4,5,6,7]"
   ]
  },
  {
   "cell_type": "code",
   "execution_count": 2,
   "id": "dc9a8bae-1408-41f9-a98b-cd3a258f508f",
   "metadata": {},
   "outputs": [
    {
     "data": {
      "text/plain": [
       "3"
      ]
     },
     "execution_count": 2,
     "metadata": {},
     "output_type": "execute_result"
    }
   ],
   "source": [
    "k[0]+1"
   ]
  },
  {
   "cell_type": "code",
   "execution_count": 3,
   "id": "aa17f3b8-7491-4e76-8636-1ee660945123",
   "metadata": {},
   "outputs": [],
   "source": [
    "k1=[]"
   ]
  },
  {
   "cell_type": "code",
   "execution_count": 8,
   "id": "fd4737be-2a3f-49a0-b4bb-3dfeb64ad962",
   "metadata": {},
   "outputs": [],
   "source": [
    "k1.append(k[0]+1)"
   ]
  },
  {
   "cell_type": "code",
   "execution_count": 9,
   "id": "85f36648-d7b6-469d-b965-3e313612bce7",
   "metadata": {},
   "outputs": [
    {
     "data": {
      "text/plain": [
       "[3]"
      ]
     },
     "execution_count": 9,
     "metadata": {},
     "output_type": "execute_result"
    }
   ],
   "source": [
    "k1"
   ]
  },
  {
   "cell_type": "code",
   "execution_count": 10,
   "id": "1ab8274e-c88b-441f-ba57-449801ea094b",
   "metadata": {},
   "outputs": [
    {
     "data": {
      "text/plain": [
       "[2, 3, 4, 5, 6, 7]"
      ]
     },
     "execution_count": 10,
     "metadata": {},
     "output_type": "execute_result"
    }
   ],
   "source": [
    "# this is loop . it is use for easy way for add value\n",
    "k"
   ]
  },
  {
   "cell_type": "code",
   "execution_count": 11,
   "id": "d52001f1-7368-43a5-8f99-9c6f3c2f27f6",
   "metadata": {},
   "outputs": [
    {
     "name": "stdout",
     "output_type": "stream",
     "text": [
      "2\n",
      "3\n",
      "4\n",
      "5\n",
      "6\n",
      "7\n"
     ]
    }
   ],
   "source": [
    "for i in k:\n",
    "    print(i)"
   ]
  },
  {
   "cell_type": "code",
   "execution_count": 13,
   "id": "e0a9c60d-8c2c-40ca-9fe7-cb6f716d772f",
   "metadata": {},
   "outputs": [
    {
     "name": "stdout",
     "output_type": "stream",
     "text": [
      "[2, 3, 4, 5, 6, 7]\n",
      "[2, 3, 4, 5, 6, 7]\n",
      "[2, 3, 4, 5, 6, 7]\n",
      "[2, 3, 4, 5, 6, 7]\n",
      "[2, 3, 4, 5, 6, 7]\n",
      "[2, 3, 4, 5, 6, 7]\n"
     ]
    }
   ],
   "source": [
    "for i in k :\n",
    "    print(k)"
   ]
  },
  {
   "cell_type": "code",
   "execution_count": 18,
   "id": "3dcccbe0-a72c-4d4f-b2db-0446bb1aec51",
   "metadata": {},
   "outputs": [
    {
     "name": "stdout",
     "output_type": "stream",
     "text": [
      "3\n",
      "4\n",
      "5\n",
      "6\n",
      "7\n",
      "8\n"
     ]
    }
   ],
   "source": [
    "# this is loop functio it is use for add 1 in every data\n",
    "for i in k :\n",
    "    print(i+1)"
   ]
  },
  {
   "cell_type": "code",
   "execution_count": 22,
   "id": "2b317b0d-03e0-4558-8a5b-5875943d0417",
   "metadata": {},
   "outputs": [
    {
     "name": "stdout",
     "output_type": "stream",
     "text": [
      "3\n",
      "4\n",
      "5\n",
      "6\n",
      "7\n",
      "8\n"
     ]
    }
   ],
   "source": [
    "k1=[]\n",
    "for  i in k:\n",
    "    print (i+1)\n",
    "    k1.append(i+1)\n",
    "    k1"
   ]
  },
  {
   "cell_type": "code",
   "execution_count": 23,
   "id": "2af1ec34-2a0b-4e98-ad8e-06fe7e484029",
   "metadata": {},
   "outputs": [
    {
     "data": {
      "text/plain": [
       "[3, 4, 5, 6, 7, 8]"
      ]
     },
     "execution_count": 23,
     "metadata": {},
     "output_type": "execute_result"
    }
   ],
   "source": [
    "k1"
   ]
  },
  {
   "cell_type": "code",
   "execution_count": 24,
   "id": "2c958095-6359-4a94-80f8-2867074fa1df",
   "metadata": {},
   "outputs": [],
   "source": [
    "# this is convert in upper case than coolect one list\n",
    "k=['sudh', 'pwskills', 'kumar', 'course']\n"
   ]
  },
  {
   "cell_type": "code",
   "execution_count": 25,
   "id": "58166b37-4ad4-4644-959e-1971414e01fe",
   "metadata": {},
   "outputs": [
    {
     "name": "stdout",
     "output_type": "stream",
     "text": [
      "sudh\n",
      "pwskills\n",
      "kumar\n",
      "course\n"
     ]
    }
   ],
   "source": [
    "for i in k:\n",
    "    print(i)"
   ]
  },
  {
   "cell_type": "code",
   "execution_count": 26,
   "id": "a0fc5aa3-be70-4aca-9245-fbe935f30016",
   "metadata": {},
   "outputs": [
    {
     "name": "stdout",
     "output_type": "stream",
     "text": [
      "sudh\n",
      "pwskills\n",
      "kumar\n",
      "course\n"
     ]
    }
   ],
   "source": [
    "# this is convert in upper case (capital latter all off)\n",
    "k1=[]\n",
    "for i in k:\n",
    "    print(i)\n",
    "    k1.append(i.upper())"
   ]
  },
  {
   "cell_type": "code",
   "execution_count": 27,
   "id": "56984b17-2f21-497c-b0dc-9cbd25fc877b",
   "metadata": {},
   "outputs": [
    {
     "data": {
      "text/plain": [
       "['SUDH', 'PWSKILLS', 'KUMAR', 'COURSE']"
      ]
     },
     "execution_count": 27,
     "metadata": {},
     "output_type": "execute_result"
    }
   ],
   "source": [
    "k1"
   ]
  },
  {
   "cell_type": "code",
   "execution_count": 28,
   "id": "d3f94621-c754-469a-91a6-022e868a1adf",
   "metadata": {},
   "outputs": [],
   "source": [
    "# make two seprate data which have one data in form of string data and one data of integer data\n",
    "j=[1,2,3,4,5,'sudh', 'kumar', 345,47.78,'bcv']"
   ]
  },
  {
   "cell_type": "code",
   "execution_count": 31,
   "id": "7058f69b-51a2-49d6-b152-34f881d60a76",
   "metadata": {},
   "outputs": [],
   "source": [
    "j1_num=[]\n",
    "j2_str=[]\n",
    "for i in j:\n",
    "    if type (i) == int or type(i) ==float:\n",
    "        j1_num.append(i)\n",
    "    else:\n",
    "        j2_str.append(i)\n",
    "        "
   ]
  },
  {
   "cell_type": "code",
   "execution_count": 33,
   "id": "cc6e6588-ca02-475f-bfc9-11d201f4275f",
   "metadata": {},
   "outputs": [
    {
     "data": {
      "text/plain": [
       "[1, 2, 3, 4, 5, 345, 47.78]"
      ]
     },
     "execution_count": 33,
     "metadata": {},
     "output_type": "execute_result"
    }
   ],
   "source": [
    "j1_num"
   ]
  },
  {
   "cell_type": "code",
   "execution_count": 34,
   "id": "1b15d8f1-5895-4211-86ed-7c2ebd7092c9",
   "metadata": {},
   "outputs": [
    {
     "data": {
      "text/plain": [
       "['sudh', 'kumar', 'bcv']"
      ]
     },
     "execution_count": 34,
     "metadata": {},
     "output_type": "execute_result"
    }
   ],
   "source": [
    "j2_str"
   ]
  },
  {
   "cell_type": "code",
   "execution_count": null,
   "id": "f3a2da40-be8b-46dc-883d-ddb17f4c8097",
   "metadata": {},
   "outputs": [],
   "source": []
  }
 ],
 "metadata": {
  "kernelspec": {
   "display_name": "Python 3 (ipykernel)",
   "language": "python",
   "name": "python3"
  },
  "language_info": {
   "codemirror_mode": {
    "name": "ipython",
    "version": 3
   },
   "file_extension": ".py",
   "mimetype": "text/x-python",
   "name": "python",
   "nbconvert_exporter": "python",
   "pygments_lexer": "ipython3",
   "version": "3.10.6"
  }
 },
 "nbformat": 4,
 "nbformat_minor": 5
}
