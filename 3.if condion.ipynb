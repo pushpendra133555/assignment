{
 "cells": [
  {
   "cell_type": "code",
   "execution_count": 1,
   "id": "1256d497-1d2b-4af6-b6f9-c462b6e4f2de",
   "metadata": {},
   "outputs": [
    {
     "name": "stdout",
     "output_type": "stream",
     "text": [
      "you will be a part of A3 batch\n"
     ]
    }
   ],
   "source": [
    "# decesion making statement or control statement if else condition (>= comparision operater hai)\n",
    "# false ke case m execute nhi krega>=80 only execute print ('you will be a part of A3 batch')\n",
    "marks = (10)\n",
    "if marks >= 80:\n",
    "    print('you will be a part of A0 batch')\n",
    "elif marks >= 60 and marks< 80:\n",
    "    print('you will be a part of A1 batch')\n",
    "elif marks >= 40 and marks < 60:\n",
    "    print ('you will be a part of A2 batch')\n",
    "else : \n",
    "    print ('you will be a part of A3 batch')"
   ]
  },
  {
   "cell_type": "code",
   "execution_count": 2,
   "id": "92b76e51-ad65-4f1d-adc5-927f27fe6fed",
   "metadata": {},
   "outputs": [
    {
     "data": {
      "text/plain": [
       "False"
      ]
     },
     "execution_count": 2,
     "metadata": {},
     "output_type": "execute_result"
    }
   ],
   "source": [
    "10>=45"
   ]
  },
  {
   "cell_type": "code",
   "execution_count": 3,
   "id": "020c50dd-13af-4025-9894-7bb13bf73f6e",
   "metadata": {},
   "outputs": [
    {
     "name": "stdin",
     "output_type": "stream",
     "text": [
      "enter price 5000\n"
     ]
    },
    {
     "name": "stdout",
     "output_type": "stream",
     "text": [
      " i will not purchase\n"
     ]
    }
   ],
   "source": [
    "price = int(input(\"enter price\"))\n",
    "if price>1000:\n",
    "    print(\" i will not purchase\")\n",
    "else: \n",
    "    print(\"i will purchase\")"
   ]
  },
  {
   "cell_type": "code",
   "execution_count": 9,
   "id": "440b990f-c43e-4dc0-a6b5-7124084ba01f",
   "metadata": {},
   "outputs": [
    {
     "name": "stdin",
     "output_type": "stream",
     "text": [
      "enter price 1500\n"
     ]
    },
    {
     "name": "stdout",
     "output_type": "stream",
     "text": [
      " i will not purchase\n",
      "its ok\n"
     ]
    }
   ],
   "source": [
    "# condition k under k under condion\n",
    "price = int(input(\"enter price\"))\n",
    "if price>1000:\n",
    "    print(\" i will not purchase\")\n",
    "    if price>5000:\n",
    "        print ('this is too much')\n",
    "    elif price < 2000:\n",
    "        print ('its ok')"
   ]
  },
  {
   "cell_type": "code",
   "execution_count": null,
   "id": "2dabc846-a862-4f42-9cb9-c4c80cdaa1d1",
   "metadata": {},
   "outputs": [],
   "source": []
  },
  {
   "cell_type": "code",
   "execution_count": null,
   "id": "7f872464-b616-4450-b904-2bfe4aefd68f",
   "metadata": {},
   "outputs": [],
   "source": [
    "k[0] + 1"
   ]
  },
  {
   "cell_type": "code",
   "execution_count": 13,
   "id": "e0075317-f945-411f-9cdf-fd0d56890e46",
   "metadata": {},
   "outputs": [],
   "source": [
    "k1=[]"
   ]
  },
  {
   "cell_type": "code",
   "execution_count": 15,
   "id": "6a149ce8-850f-4a95-ae01-6172f43ccf48",
   "metadata": {},
   "outputs": [],
   "source": [
    "k1.append(k[0]+1)"
   ]
  },
  {
   "cell_type": "code",
   "execution_count": 16,
   "id": "5e2c202a-aa6d-4563-b07f-23288b7911ae",
   "metadata": {},
   "outputs": [
    {
     "data": {
      "text/plain": [
       "[3]"
      ]
     },
     "execution_count": 16,
     "metadata": {},
     "output_type": "execute_result"
    }
   ],
   "source": [
    "k1"
   ]
  },
  {
   "cell_type": "code",
   "execution_count": null,
   "id": "69aa2a7e-8894-4c67-924f-2dfa50a587a8",
   "metadata": {},
   "outputs": [],
   "source": [
    "k"
   ]
  },
  {
   "cell_type": "code",
   "execution_count": null,
   "id": "1384c227-6cca-4744-8546-e8ffa1cc4789",
   "metadata": {},
   "outputs": [],
   "source": []
  }
 ],
 "metadata": {
  "kernelspec": {
   "display_name": "Python 3 (ipykernel)",
   "language": "python",
   "name": "python3"
  },
  "language_info": {
   "codemirror_mode": {
    "name": "ipython",
    "version": 3
   },
   "file_extension": ".py",
   "mimetype": "text/x-python",
   "name": "python",
   "nbconvert_exporter": "python",
   "pygments_lexer": "ipython3",
   "version": "3.10.6"
  }
 },
 "nbformat": 4,
 "nbformat_minor": 5
}
