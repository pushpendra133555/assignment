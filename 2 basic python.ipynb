{
 "cells": [
  {
   "cell_type": "code",
   "execution_count": 1,
   "id": "e4a214e7-a097-433f-8e34-40903cd23317",
   "metadata": {},
   "outputs": [
    {
     "data": {
      "text/plain": [
       "3"
      ]
     },
     "execution_count": 1,
     "metadata": {},
     "output_type": "execute_result"
    }
   ],
   "source": [
    "1+2"
   ]
  },
  {
   "cell_type": "markdown",
   "id": "cf948d09-1cad-408a-bfc3-a254c1b798b5",
   "metadata": {},
   "source": [
    "### "
   ]
  },
  {
   "cell_type": "code",
   "execution_count": 2,
   "id": "d4715ca6-0162-4046-bf77-5452a50f53f8",
   "metadata": {},
   "outputs": [
    {
     "data": {
      "text/plain": [
       "-1"
      ]
     },
     "execution_count": 2,
     "metadata": {},
     "output_type": "execute_result"
    }
   ],
   "source": [
    "2-3"
   ]
  },
  {
   "cell_type": "code",
   "execution_count": 3,
   "id": "07046c36-7c12-478b-8355-53b38ec6926b",
   "metadata": {},
   "outputs": [
    {
     "name": "stdout",
     "output_type": "stream",
     "text": [
      "hello word\n"
     ]
    }
   ],
   "source": [
    "print('hello word')"
   ]
  },
  {
   "cell_type": "code",
   "execution_count": 5,
   "id": "af267ced-cac0-4650-af2b-33042a602ebe",
   "metadata": {},
   "outputs": [
    {
     "name": "stdout",
     "output_type": "stream",
     "text": [
      "pushpenda\n"
     ]
    }
   ],
   "source": [
    "print('pushpenda')"
   ]
  },
  {
   "cell_type": "code",
   "execution_count": 6,
   "id": "5911083f-fb5f-4d92-906d-a62d99310bd6",
   "metadata": {},
   "outputs": [],
   "source": [
    "# this is data type is list\n",
    "i=[1,3245,'sudh',True, 5+7j, 56.89]"
   ]
  },
  {
   "cell_type": "code",
   "execution_count": 7,
   "id": "fa23e283-da60-4127-94b7-87cdab3b8f7c",
   "metadata": {},
   "outputs": [
    {
     "data": {
      "text/plain": [
       "[1, 3245, 'sudh', True, (5+7j), 56.89]"
      ]
     },
     "execution_count": 7,
     "metadata": {},
     "output_type": "execute_result"
    }
   ],
   "source": [
    "i"
   ]
  },
  {
   "cell_type": "code",
   "execution_count": 8,
   "id": "bdd94089-2e38-42dc-b1d6-afd5cc5ca735",
   "metadata": {},
   "outputs": [
    {
     "data": {
      "text/plain": [
       "list"
      ]
     },
     "execution_count": 8,
     "metadata": {},
     "output_type": "execute_result"
    }
   ],
   "source": [
    "type(i)"
   ]
  },
  {
   "cell_type": "code",
   "execution_count": 9,
   "id": "ffc17c7c-15d9-46a6-b4f3-b04f8f6ffde9",
   "metadata": {},
   "outputs": [
    {
     "data": {
      "text/plain": [
       "1"
      ]
     },
     "execution_count": 9,
     "metadata": {},
     "output_type": "execute_result"
    }
   ],
   "source": [
    "i[0]"
   ]
  },
  {
   "cell_type": "code",
   "execution_count": 10,
   "id": "82baa773-fcb0-4895-b296-8940d1c30ef6",
   "metadata": {},
   "outputs": [
    {
     "data": {
      "text/plain": [
       "True"
      ]
     },
     "execution_count": 10,
     "metadata": {},
     "output_type": "execute_result"
    }
   ],
   "source": [
    "i[3]"
   ]
  },
  {
   "cell_type": "code",
   "execution_count": 11,
   "id": "0971d473-a1f9-472a-9bba-a968d37a11cc",
   "metadata": {},
   "outputs": [
    {
     "data": {
      "text/plain": [
       "(5+7j)"
      ]
     },
     "execution_count": 11,
     "metadata": {},
     "output_type": "execute_result"
    }
   ],
   "source": [
    "#data ko bhar kaise nikale\n",
    "i[4]"
   ]
  },
  {
   "cell_type": "code",
   "execution_count": 12,
   "id": "50d6eb09-1c5a-4462-98c9-b31ae35a9c55",
   "metadata": {},
   "outputs": [
    {
     "ename": "IndexError",
     "evalue": "list index out of range",
     "output_type": "error",
     "traceback": [
      "\u001b[0;31m---------------------------------------------------------------------------\u001b[0m",
      "\u001b[0;31mIndexError\u001b[0m                                Traceback (most recent call last)",
      "Cell \u001b[0;32mIn[12], line 1\u001b[0m\n\u001b[0;32m----> 1\u001b[0m \u001b[43mi\u001b[49m\u001b[43m[\u001b[49m\u001b[38;5;241;43m8\u001b[39;49m\u001b[43m]\u001b[49m\n",
      "\u001b[0;31mIndexError\u001b[0m: list index out of range"
     ]
    }
   ],
   "source": [
    "# tis is no data at 8 start fom 0 to 1,2,3,4,5,6....\n",
    "i[8]"
   ]
  },
  {
   "cell_type": "code",
   "execution_count": 13,
   "id": "34ff36c1-efea-497d-9778-191ebbab7a6a",
   "metadata": {},
   "outputs": [
    {
     "data": {
      "text/plain": [
       "[1, 3245, 'sudh']"
      ]
     },
     "execution_count": 13,
     "metadata": {},
     "output_type": "execute_result"
    }
   ],
   "source": [
    "# data combine bhar niklo use slicing data hmne 012 index ka hi nikala hai \n",
    "i[0:3]"
   ]
  },
  {
   "cell_type": "code",
   "execution_count": 14,
   "id": "02f83807-eafe-4934-a028-ff187cd2eae9",
   "metadata": {},
   "outputs": [
    {
     "data": {
      "text/plain": [
       "56.89"
      ]
     },
     "execution_count": 14,
     "metadata": {},
     "output_type": "execute_result"
    }
   ],
   "source": [
    "# everse jump so data is start -1,-2,-3\n",
    "i[-1]"
   ]
  },
  {
   "cell_type": "code",
   "execution_count": 15,
   "id": "21886f1c-c166-4355-87f5-ee1084b5fff6",
   "metadata": {},
   "outputs": [
    {
     "data": {
      "text/plain": [
       "[56.89, (5+7j), True, 'sudh', 3245, 1]"
      ]
     },
     "execution_count": 15,
     "metadata": {},
     "output_type": "execute_result"
    }
   ],
   "source": [
    "#list is reverse kaise kre\n",
    "i[::-1]"
   ]
  },
  {
   "cell_type": "code",
   "execution_count": 16,
   "id": "ef245403-731b-4e39-b370-3c77beb1e59d",
   "metadata": {},
   "outputs": [
    {
     "data": {
      "text/plain": [
       "[1, 'sudh', (5+7j)]"
      ]
     },
     "execution_count": 16,
     "metadata": {},
     "output_type": "execute_result"
    }
   ],
   "source": [
    "# jo data avilable hai even pr use bhar nikalo\n",
    "i[::2]"
   ]
  },
  {
   "cell_type": "code",
   "execution_count": 18,
   "id": "77e82e73-110b-4f73-a38d-24df1d61d4b9",
   "metadata": {},
   "outputs": [
    {
     "data": {
      "text/plain": [
       "[1, True]"
      ]
     },
     "execution_count": 18,
     "metadata": {},
     "output_type": "execute_result"
    }
   ],
   "source": [
    "# jo data odd pr hai use bhar niklo\n",
    "i[::3]"
   ]
  },
  {
   "cell_type": "code",
   "execution_count": 19,
   "id": "ef1c7c82-8d3d-413c-89c1-e4b8ba466a59",
   "metadata": {},
   "outputs": [
    {
     "data": {
      "text/plain": [
       "[56.89, True, 3245]"
      ]
     },
     "execution_count": 19,
     "metadata": {},
     "output_type": "execute_result"
    }
   ],
   "source": [
    "#new pattern \n",
    "i[::-2]"
   ]
  },
  {
   "cell_type": "code",
   "execution_count": 20,
   "id": "36b9277d-9757-4ac3-98a8-7ab0b169085f",
   "metadata": {},
   "outputs": [
    {
     "data": {
      "text/plain": [
       "[56.89, 'sudh']"
      ]
     },
     "execution_count": 20,
     "metadata": {},
     "output_type": "execute_result"
    }
   ],
   "source": [
    "i[::-3]"
   ]
  },
  {
   "cell_type": "code",
   "execution_count": 21,
   "id": "51600fe9-9edb-4f8a-b00b-25e34ef6feab",
   "metadata": {},
   "outputs": [],
   "source": [
    "s='pwskills'"
   ]
  },
  {
   "cell_type": "code",
   "execution_count": 22,
   "id": "7821c172-f0b6-4079-bc68-8b07d2a21a7d",
   "metadata": {},
   "outputs": [
    {
     "data": {
      "text/plain": [
       "'pwskills'"
      ]
     },
     "execution_count": 22,
     "metadata": {},
     "output_type": "execute_result"
    }
   ],
   "source": [
    "s"
   ]
  },
  {
   "cell_type": "code",
   "execution_count": 23,
   "id": "3e88ed8a-061d-4f3b-99d2-eaf70bd73e32",
   "metadata": {},
   "outputs": [
    {
     "ename": "TypeError",
     "evalue": "can only concatenate list (not \"str\") to list",
     "output_type": "error",
     "traceback": [
      "\u001b[0;31m---------------------------------------------------------------------------\u001b[0m",
      "\u001b[0;31mTypeError\u001b[0m                                 Traceback (most recent call last)",
      "Cell \u001b[0;32mIn[23], line 1\u001b[0m\n\u001b[0;32m----> 1\u001b[0m \u001b[43mi\u001b[49m\u001b[38;5;241;43m+\u001b[39;49m\u001b[43ms\u001b[49m\n",
      "\u001b[0;31mTypeError\u001b[0m: can only concatenate list (not \"str\") to list"
     ]
    }
   ],
   "source": [
    "#add list aur string there is no add because no same data\n",
    "i+s"
   ]
  },
  {
   "cell_type": "code",
   "execution_count": 24,
   "id": "ec4b56a6-dfb1-4061-b73b-2ed33666b168",
   "metadata": {},
   "outputs": [
    {
     "data": {
      "text/plain": [
       "['p', 'w', 's', 'k', 'i', 'l', 'l', 's', 1, 3245, 'sudh', True, (5+7j), 56.89]"
      ]
     },
     "execution_count": 24,
     "metadata": {},
     "output_type": "execute_result"
    }
   ],
   "source": [
    "# this is bresk single value\n",
    "list(s)+ i"
   ]
  },
  {
   "cell_type": "code",
   "execution_count": 25,
   "id": "aeee4ac5-7203-473b-b065-a7d1f8e9a4af",
   "metadata": {},
   "outputs": [
    {
     "data": {
      "text/plain": [
       "[1, 3245, 'sudh', True, (5+7j), 56.89]"
      ]
     },
     "execution_count": 25,
     "metadata": {},
     "output_type": "execute_result"
    }
   ],
   "source": [
    "i"
   ]
  },
  {
   "cell_type": "code",
   "execution_count": 27,
   "id": "b4a5214f-10a7-4018-a746-876a5265ae27",
   "metadata": {},
   "outputs": [
    {
     "data": {
      "text/plain": [
       "str"
      ]
     },
     "execution_count": 27,
     "metadata": {},
     "output_type": "execute_result"
    }
   ],
   "source": [
    "# su niklana hai data ,su is 2nd index pr hai\n",
    "type(i[2])\n"
   ]
  },
  {
   "cell_type": "code",
   "execution_count": 29,
   "id": "ff032bcd-affd-4dc0-92ed-b28b2ddcca5a",
   "metadata": {},
   "outputs": [
    {
     "data": {
      "text/plain": [
       "'su'"
      ]
     },
     "execution_count": 29,
     "metadata": {},
     "output_type": "execute_result"
    }
   ],
   "source": [
    "i[2][0:2]"
   ]
  },
  {
   "cell_type": "code",
   "execution_count": 30,
   "id": "e53227c8-f2d3-4f8d-a60e-87a74b71d609",
   "metadata": {},
   "outputs": [
    {
     "data": {
      "text/plain": [
       "True"
      ]
     },
     "execution_count": 30,
     "metadata": {},
     "output_type": "execute_result"
    }
   ],
   "source": [
    "i[3]"
   ]
  },
  {
   "cell_type": "code",
   "execution_count": 31,
   "id": "0c6b26fb-9997-4cd4-ad78-22444a1388d8",
   "metadata": {},
   "outputs": [
    {
     "data": {
      "text/plain": [
       "'Tr'"
      ]
     },
     "execution_count": 31,
     "metadata": {},
     "output_type": "execute_result"
    }
   ],
   "source": [
    "str(i[3])[0:2]"
   ]
  },
  {
   "cell_type": "code",
   "execution_count": 32,
   "id": "7e27c133-189f-47c4-8ac4-880ed497d3ef",
   "metadata": {},
   "outputs": [
    {
     "data": {
      "text/plain": [
       "[1, 3245, 'sudh', True, (5+7j), 56.89]"
      ]
     },
     "execution_count": 32,
     "metadata": {},
     "output_type": "execute_result"
    }
   ],
   "source": [
    "i"
   ]
  },
  {
   "cell_type": "code",
   "execution_count": 33,
   "id": "be196bae-3923-4b91-ae68-e94b0a291ffe",
   "metadata": {},
   "outputs": [
    {
     "ename": "TypeError",
     "evalue": "can only concatenate list (not \"int\") to list",
     "output_type": "error",
     "traceback": [
      "\u001b[0;31m---------------------------------------------------------------------------\u001b[0m",
      "\u001b[0;31mTypeError\u001b[0m                                 Traceback (most recent call last)",
      "Cell \u001b[0;32mIn[33], line 2\u001b[0m\n\u001b[1;32m      1\u001b[0m \u001b[38;5;66;03m# list mi 5 add kro\u001b[39;00m\n\u001b[0;32m----> 2\u001b[0m \u001b[43mi\u001b[49m\u001b[38;5;241;43m+\u001b[39;49m\u001b[38;5;241;43m5\u001b[39;49m\n",
      "\u001b[0;31mTypeError\u001b[0m: can only concatenate list (not \"int\") to list"
     ]
    }
   ],
   "source": [
    "# list mi 5 add kro\n",
    "i+5"
   ]
  },
  {
   "cell_type": "code",
   "execution_count": 34,
   "id": "2c8f188c-e59c-4739-acec-112df0e8205a",
   "metadata": {},
   "outputs": [],
   "source": [
    "i1=[3,4,5]"
   ]
  },
  {
   "cell_type": "code",
   "execution_count": 35,
   "id": "46958c2a-0470-4410-8f08-61ff5608e2b5",
   "metadata": {},
   "outputs": [
    {
     "data": {
      "text/plain": [
       "[1, 3245, 'sudh', True, (5+7j), 56.89, 3, 4, 5]"
      ]
     },
     "execution_count": 35,
     "metadata": {},
     "output_type": "execute_result"
    }
   ],
   "source": [
    "# list mai list add kiya hai\n",
    "i+i1"
   ]
  },
  {
   "cell_type": "code",
   "execution_count": 36,
   "id": "80472dd4-6d2d-4119-87ed-f6f38c7a3494",
   "metadata": {},
   "outputs": [
    {
     "data": {
      "text/plain": [
       "[3, 4, 5, 3, 4, 5, 3, 4, 5]"
      ]
     },
     "execution_count": 36,
     "metadata": {},
     "output_type": "execute_result"
    }
   ],
   "source": [
    "# same number is multiply ya repeat\n",
    "i1*3"
   ]
  },
  {
   "cell_type": "code",
   "execution_count": 37,
   "id": "b4c2bc96-1f25-4785-af06-594ed267c504",
   "metadata": {},
   "outputs": [
    {
     "data": {
      "text/plain": [
       "6"
      ]
     },
     "execution_count": 37,
     "metadata": {},
     "output_type": "execute_result"
    }
   ],
   "source": [
    "# list mai kitne number of element hai\n",
    "len(i)"
   ]
  },
  {
   "cell_type": "code",
   "execution_count": 38,
   "id": "86e13dc2-9a55-4472-b53c-905531579d52",
   "metadata": {},
   "outputs": [
    {
     "data": {
      "text/plain": [
       "[1, 3245, 'sudh', True, (5+7j), 56.89]"
      ]
     },
     "execution_count": 38,
     "metadata": {},
     "output_type": "execute_result"
    }
   ],
   "source": [
    "# add kaise kre\n",
    "i"
   ]
  },
  {
   "cell_type": "code",
   "execution_count": 41,
   "id": "85000aca-1775-4b0e-bb25-4e895428d59c",
   "metadata": {},
   "outputs": [],
   "source": [
    "# add integer so use append , and append data add at last\n",
    "i.append(5)"
   ]
  },
  {
   "cell_type": "code",
   "execution_count": 43,
   "id": "f50843db-305b-476d-bd67-347488af45d2",
   "metadata": {},
   "outputs": [
    {
     "data": {
      "text/plain": [
       "[1, 3245, 'sudh', True, (5+7j), 56.89, 5, 5, 5]"
      ]
     },
     "execution_count": 43,
     "metadata": {},
     "output_type": "execute_result"
    }
   ],
   "source": [
    "i"
   ]
  },
  {
   "cell_type": "code",
   "execution_count": 47,
   "id": "28630732-44ec-474c-8ba5-b908031557f8",
   "metadata": {},
   "outputs": [],
   "source": [
    "i.append(s)"
   ]
  },
  {
   "cell_type": "code",
   "execution_count": 46,
   "id": "150b9085-abef-4f80-97a2-a78338b68570",
   "metadata": {},
   "outputs": [
    {
     "data": {
      "text/plain": [
       "'pwskills'"
      ]
     },
     "execution_count": 46,
     "metadata": {},
     "output_type": "execute_result"
    }
   ],
   "source": [
    "s"
   ]
  },
  {
   "cell_type": "code",
   "execution_count": 48,
   "id": "b96ca3db-061d-4767-89ad-968dc5f5c00e",
   "metadata": {},
   "outputs": [
    {
     "data": {
      "text/plain": [
       "[1, 3245, 'sudh', True, (5+7j), 56.89, 5, 5, 5, 'pwskills']"
      ]
     },
     "execution_count": 48,
     "metadata": {},
     "output_type": "execute_result"
    }
   ],
   "source": [
    "i"
   ]
  },
  {
   "cell_type": "code",
   "execution_count": 49,
   "id": "53ad43bd-766f-4a97-a6ff-7f31e9413330",
   "metadata": {},
   "outputs": [
    {
     "data": {
      "text/plain": [
       "[3, 4, 5]"
      ]
     },
     "execution_count": 49,
     "metadata": {},
     "output_type": "execute_result"
    }
   ],
   "source": [
    "i1"
   ]
  },
  {
   "cell_type": "code",
   "execution_count": 50,
   "id": "47d65514-1727-4f4c-8a61-1839a39b9df1",
   "metadata": {},
   "outputs": [],
   "source": [
    "#list k under list and list add kr sakte hai\n",
    "# append means add of data\n",
    "# shift + tab = show function type\n",
    "i.append(i1)"
   ]
  },
  {
   "cell_type": "code",
   "execution_count": 57,
   "id": "9ab47c1c-a5b8-4454-bc69-565c789c98cf",
   "metadata": {},
   "outputs": [
    {
     "data": {
      "text/plain": [
       "[1, 3245, 'sudh', True, (5+7j), 56.89, 5, 5, 5, 'pwskills', [3, 4, 5]]"
      ]
     },
     "execution_count": 57,
     "metadata": {},
     "output_type": "execute_result"
    }
   ],
   "source": [
    "i"
   ]
  },
  {
   "cell_type": "code",
   "execution_count": null,
   "id": "c81e0361-92f9-457d-bd4c-81702ae01571",
   "metadata": {},
   "outputs": [],
   "source": [
    "# 4 ko nikalo\n",
    "i[-1]"
   ]
  },
  {
   "cell_type": "code",
   "execution_count": 58,
   "id": "8d0600fb-b185-4a45-956f-9d255193ba60",
   "metadata": {},
   "outputs": [
    {
     "data": {
      "text/plain": [
       "4"
      ]
     },
     "execution_count": 58,
     "metadata": {},
     "output_type": "execute_result"
    }
   ],
   "source": [
    "i[-1][1]"
   ]
  },
  {
   "cell_type": "code",
   "execution_count": 59,
   "id": "30a99573-a601-47aa-9417-ba50a70e99ba",
   "metadata": {},
   "outputs": [
    {
     "data": {
      "text/plain": [
       "[1, 3245, 'sudh', True, (5+7j), 56.89, 5, 5, 5, 'pwskills', [3, 4, 5]]"
      ]
     },
     "execution_count": 59,
     "metadata": {},
     "output_type": "execute_result"
    }
   ],
   "source": [
    "i"
   ]
  },
  {
   "cell_type": "code",
   "execution_count": 60,
   "id": "b413cb50-f485-40a6-9311-c8703db80d5c",
   "metadata": {},
   "outputs": [
    {
     "data": {
      "text/plain": [
       "[3, 4, 5]"
      ]
     },
     "execution_count": 60,
     "metadata": {},
     "output_type": "execute_result"
    }
   ],
   "source": [
    "i1"
   ]
  },
  {
   "cell_type": "code",
   "execution_count": 68,
   "id": "c38321d6-936b-4a10-83a9-b735a7b3c4e3",
   "metadata": {},
   "outputs": [],
   "source": [
    "i.append(i1)"
   ]
  },
  {
   "cell_type": "code",
   "execution_count": 69,
   "id": "42110499-7d99-4b9b-b131-abaee2a9a0bd",
   "metadata": {},
   "outputs": [
    {
     "data": {
      "text/plain": [
       "[1,\n",
       " 3245,\n",
       " 'sudh',\n",
       " True,\n",
       " (5+7j),\n",
       " 56.89,\n",
       " 5,\n",
       " 5,\n",
       " 5,\n",
       " 'pwskills',\n",
       " [3, 4, 5],\n",
       " [3, 4, 5],\n",
       " [3, 4, 5],\n",
       " [3, 4, 5],\n",
       " [3, 4, 5],\n",
       " [3, 4, 5],\n",
       " [3, 4, 5],\n",
       " [3, 4, 5],\n",
       " [3, 4, 5]]"
      ]
     },
     "execution_count": 69,
     "metadata": {},
     "output_type": "execute_result"
    }
   ],
   "source": [
    "i"
   ]
  },
  {
   "cell_type": "code",
   "execution_count": 70,
   "id": "3c32b455-7771-4956-8559-d6362dd378e1",
   "metadata": {},
   "outputs": [
    {
     "ename": "TypeError",
     "evalue": "'int' object is not iterable",
     "output_type": "error",
     "traceback": [
      "\u001b[0;31m---------------------------------------------------------------------------\u001b[0m",
      "\u001b[0;31mTypeError\u001b[0m                                 Traceback (most recent call last)",
      "Cell \u001b[0;32mIn[70], line 2\u001b[0m\n\u001b[1;32m      1\u001b[0m \u001b[38;5;66;03m# extend function itereable \u001b[39;00m\n\u001b[0;32m----> 2\u001b[0m \u001b[43mi\u001b[49m\u001b[38;5;241;43m.\u001b[39;49m\u001b[43mextend\u001b[49m\u001b[43m(\u001b[49m\u001b[38;5;241;43m4\u001b[39;49m\u001b[43m)\u001b[49m\n",
      "\u001b[0;31mTypeError\u001b[0m: 'int' object is not iterable"
     ]
    }
   ],
   "source": [
    "# extend function itereable \n",
    "i.extend(4)"
   ]
  },
  {
   "cell_type": "code",
   "execution_count": 71,
   "id": "1c4b4bd0-3c98-44bd-b94d-67ee02b4d659",
   "metadata": {},
   "outputs": [],
   "source": [
    "i.extend('sudh')"
   ]
  },
  {
   "cell_type": "code",
   "execution_count": 72,
   "id": "acc421f1-ff0c-4eac-9532-6828c7387dea",
   "metadata": {},
   "outputs": [
    {
     "data": {
      "text/plain": [
       "[1,\n",
       " 3245,\n",
       " 'sudh',\n",
       " True,\n",
       " (5+7j),\n",
       " 56.89,\n",
       " 5,\n",
       " 5,\n",
       " 5,\n",
       " 'pwskills',\n",
       " [3, 4, 5],\n",
       " [3, 4, 5],\n",
       " [3, 4, 5],\n",
       " [3, 4, 5],\n",
       " [3, 4, 5],\n",
       " [3, 4, 5],\n",
       " [3, 4, 5],\n",
       " [3, 4, 5],\n",
       " [3, 4, 5],\n",
       " 's',\n",
       " 'u',\n",
       " 'd',\n",
       " 'h']"
      ]
     },
     "execution_count": 72,
     "metadata": {},
     "output_type": "execute_result"
    }
   ],
   "source": [
    "i"
   ]
  },
  {
   "cell_type": "code",
   "execution_count": 73,
   "id": "1abfdcad-fea8-4485-8faf-3d448530feb7",
   "metadata": {},
   "outputs": [],
   "source": [
    "# extend list ko todega alg alg word mai\n",
    "i.extend([3,4,5]) "
   ]
  },
  {
   "cell_type": "code",
   "execution_count": 74,
   "id": "9bc40545-c85a-4270-964e-c0a1257ef020",
   "metadata": {},
   "outputs": [
    {
     "data": {
      "text/plain": [
       "[1,\n",
       " 3245,\n",
       " 'sudh',\n",
       " True,\n",
       " (5+7j),\n",
       " 56.89,\n",
       " 5,\n",
       " 5,\n",
       " 5,\n",
       " 'pwskills',\n",
       " [3, 4, 5],\n",
       " [3, 4, 5],\n",
       " [3, 4, 5],\n",
       " [3, 4, 5],\n",
       " [3, 4, 5],\n",
       " [3, 4, 5],\n",
       " [3, 4, 5],\n",
       " [3, 4, 5],\n",
       " [3, 4, 5],\n",
       " 's',\n",
       " 'u',\n",
       " 'd',\n",
       " 'h',\n",
       " 3,\n",
       " 4,\n",
       " 5]"
      ]
     },
     "execution_count": 74,
     "metadata": {},
     "output_type": "execute_result"
    }
   ],
   "source": [
    "#  append data ko ek sath dalta hai ya add krta hai\n",
    "# extend data ko string ko break krta ya unrap krta hai in character mai hai fir alg alg show krta hai\n",
    "i"
   ]
  },
  {
   "cell_type": "code",
   "execution_count": 75,
   "id": "32e29463-0ce7-48c5-9739-bbe3337879a2",
   "metadata": {},
   "outputs": [
    {
     "data": {
      "text/plain": [
       "[3, 4, 5]"
      ]
     },
     "execution_count": 75,
     "metadata": {},
     "output_type": "execute_result"
    }
   ],
   "source": [
    "i1"
   ]
  },
  {
   "cell_type": "code",
   "execution_count": 76,
   "id": "b2a623ab-d98f-4295-826f-4aa651c4aa6e",
   "metadata": {},
   "outputs": [],
   "source": [
    "# data add 1st postion ya givin position so no use apend ya extend \n",
    "# so use insert for data insert at given position\n",
    "i1.insert(1,\"sudh\")\n"
   ]
  },
  {
   "cell_type": "code",
   "execution_count": 77,
   "id": "de1a0a5c-736a-4bb8-96ac-287c1f18ffe1",
   "metadata": {},
   "outputs": [
    {
     "data": {
      "text/plain": [
       "[3, 'sudh', 4, 5]"
      ]
     },
     "execution_count": 77,
     "metadata": {},
     "output_type": "execute_result"
    }
   ],
   "source": [
    "i1"
   ]
  },
  {
   "cell_type": "code",
   "execution_count": 78,
   "id": "e08900ee-1b37-484a-9b3d-1162cc45b7b3",
   "metadata": {},
   "outputs": [],
   "source": [
    "i1.insert(2,[2,3,4])"
   ]
  },
  {
   "cell_type": "code",
   "execution_count": 79,
   "id": "a00d6ee7-d65e-43ed-9166-5b1b204ad03c",
   "metadata": {},
   "outputs": [
    {
     "data": {
      "text/plain": [
       "[3, 'sudh', [2, 3, 4], 4, 5]"
      ]
     },
     "execution_count": 79,
     "metadata": {},
     "output_type": "execute_result"
    }
   ],
   "source": [
    "i1"
   ]
  },
  {
   "cell_type": "code",
   "execution_count": 80,
   "id": "12b3a50a-e006-463a-a7d5-709e109d70cd",
   "metadata": {},
   "outputs": [],
   "source": [
    "# hum bhool gye insert phle rakhte ya data ko so call SHIFT+tab\n",
    "i1.insert(-1,45)"
   ]
  },
  {
   "cell_type": "code",
   "execution_count": 81,
   "id": "1e308424-8322-46f1-b2a3-32e41408987f",
   "metadata": {},
   "outputs": [
    {
     "data": {
      "text/plain": [
       "[3, 'sudh', [2, 3, 4], 4, 45, 5]"
      ]
     },
     "execution_count": 81,
     "metadata": {},
     "output_type": "execute_result"
    }
   ],
   "source": [
    "# data last mai nhi dekha blki shift kr diya 5 ko forward mai\n",
    "i1"
   ]
  },
  {
   "cell_type": "code",
   "execution_count": 82,
   "id": "397027f3-b710-4483-83ab-284280007f0f",
   "metadata": {},
   "outputs": [],
   "source": [
    "i1.insert(-3,45)"
   ]
  },
  {
   "cell_type": "code",
   "execution_count": 83,
   "id": "a3332d1b-a448-4640-abb1-548386dbc240",
   "metadata": {},
   "outputs": [
    {
     "data": {
      "text/plain": [
       "[3, 'sudh', [2, 3, 4], 45, 4, 45, 5]"
      ]
     },
     "execution_count": 83,
     "metadata": {},
     "output_type": "execute_result"
    }
   ],
   "source": [
    "i1"
   ]
  },
  {
   "cell_type": "code",
   "execution_count": null,
   "id": "ee170cab-848a-4cef-956e-06e1777bafe7",
   "metadata": {},
   "outputs": [],
   "source": [
    "# data kaise dale use append insert  extend\n"
   ]
  },
  {
   "cell_type": "code",
   "execution_count": 109,
   "id": "24339db9-5082-4da7-8ed6-100cc19474cc",
   "metadata": {},
   "outputs": [
    {
     "data": {
      "text/plain": [
       "[]"
      ]
     },
     "execution_count": 109,
     "metadata": {},
     "output_type": "execute_result"
    }
   ],
   "source": [
    "i1"
   ]
  },
  {
   "cell_type": "code",
   "execution_count": 110,
   "id": "b0d0916c-4b06-4cb1-9d32-6027b97914dc",
   "metadata": {},
   "outputs": [],
   "source": [
    "i1=[3, 'sudh', [2, 3, 4], 4, 45, 5]\n"
   ]
  },
  {
   "cell_type": "code",
   "execution_count": 111,
   "id": "7ba1946a-31c8-4a26-bf08-6c7df58bbe3f",
   "metadata": {},
   "outputs": [
    {
     "data": {
      "text/plain": [
       "[3, 'sudh', [2, 3, 4], 4, 45, 5]"
      ]
     },
     "execution_count": 111,
     "metadata": {},
     "output_type": "execute_result"
    }
   ],
   "source": [
    "i1"
   ]
  },
  {
   "cell_type": "code",
   "execution_count": 112,
   "id": "08590e98-2647-4d1b-b24a-0291dc53d62f",
   "metadata": {},
   "outputs": [
    {
     "data": {
      "text/plain": [
       "5"
      ]
     },
     "execution_count": 112,
     "metadata": {},
     "output_type": "execute_result"
    }
   ],
   "source": [
    "i1.pop()"
   ]
  },
  {
   "cell_type": "code",
   "execution_count": 113,
   "id": "d6c36ba8-4508-4e7b-be22-609a67db1076",
   "metadata": {},
   "outputs": [
    {
     "data": {
      "text/plain": [
       "45"
      ]
     },
     "execution_count": 113,
     "metadata": {},
     "output_type": "execute_result"
    }
   ],
   "source": [
    "# it is femove from last when given specific positio\n",
    "i1.pop()"
   ]
  },
  {
   "cell_type": "code",
   "execution_count": 115,
   "id": "0bc4f22a-2ced-4ff5-91cd-b2b9e65e74f1",
   "metadata": {},
   "outputs": [
    {
     "data": {
      "text/plain": [
       "4"
      ]
     },
     "execution_count": 115,
     "metadata": {},
     "output_type": "execute_result"
    }
   ],
   "source": [
    "# it is remove data specified at given insex 3\n",
    "i1.pop(3)"
   ]
  },
  {
   "cell_type": "code",
   "execution_count": 116,
   "id": "bcbbb144-4b69-4e20-a135-bf33b308353a",
   "metadata": {},
   "outputs": [
    {
     "data": {
      "text/plain": [
       "[3, 'sudh', [2, 3, 4]]"
      ]
     },
     "execution_count": 116,
     "metadata": {},
     "output_type": "execute_result"
    }
   ],
   "source": [
    "i1"
   ]
  },
  {
   "cell_type": "code",
   "execution_count": 117,
   "id": "0418e227-ca5d-4f10-84d6-1f93f190e385",
   "metadata": {},
   "outputs": [
    {
     "data": {
      "text/plain": [
       "[2, 3, 4]"
      ]
     },
     "execution_count": 117,
     "metadata": {},
     "output_type": "execute_result"
    }
   ],
   "source": [
    "i1.pop(2)"
   ]
  },
  {
   "cell_type": "code",
   "execution_count": 118,
   "id": "ed2a068a-3c76-4e0f-bf30-2219fe996562",
   "metadata": {},
   "outputs": [
    {
     "data": {
      "text/plain": [
       "[3, 'sudh']"
      ]
     },
     "execution_count": 118,
     "metadata": {},
     "output_type": "execute_result"
    }
   ],
   "source": [
    "i1"
   ]
  },
  {
   "cell_type": "code",
   "execution_count": 122,
   "id": "2dc6c924-ce69-488c-b09f-6e68f89b9a8d",
   "metadata": {},
   "outputs": [],
   "source": [
    "# remove mai value pass dalo use vale ko remove kr dega\n",
    "i1.remove(3)"
   ]
  },
  {
   "cell_type": "code",
   "execution_count": 123,
   "id": "a702b2c1-a8ed-49f9-98dc-e55df870ddfd",
   "metadata": {},
   "outputs": [
    {
     "data": {
      "text/plain": [
       "['sudh']"
      ]
     },
     "execution_count": 123,
     "metadata": {},
     "output_type": "execute_result"
    }
   ],
   "source": [
    "i1"
   ]
  },
  {
   "cell_type": "code",
   "execution_count": 124,
   "id": "94bf5049-45a5-4bcd-9baf-a3e9f3a45bad",
   "metadata": {},
   "outputs": [
    {
     "data": {
      "text/plain": [
       "['sudh']"
      ]
     },
     "execution_count": 124,
     "metadata": {},
     "output_type": "execute_result"
    }
   ],
   "source": [
    "i1"
   ]
  },
  {
   "cell_type": "code",
   "execution_count": 125,
   "id": "e95ab61f-74eb-432d-ba69-7f2fd2a15e9b",
   "metadata": {},
   "outputs": [
    {
     "ename": "NameError",
     "evalue": "name 'dh' is not defined",
     "output_type": "error",
     "traceback": [
      "\u001b[0;31m---------------------------------------------------------------------------\u001b[0m",
      "\u001b[0;31mNameError\u001b[0m                                 Traceback (most recent call last)",
      "Cell \u001b[0;32mIn[125], line 1\u001b[0m\n\u001b[0;32m----> 1\u001b[0m i1\u001b[38;5;241m.\u001b[39mremove(\u001b[43mdh\u001b[49m)\n",
      "\u001b[0;31mNameError\u001b[0m: name 'dh' is not defined"
     ]
    }
   ],
   "source": [
    "i1.remove(dh)"
   ]
  },
  {
   "cell_type": "code",
   "execution_count": 126,
   "id": "ac4085fa-54d6-404c-97cf-6513ed0ddc0a",
   "metadata": {},
   "outputs": [],
   "source": [
    "h=(45,'sudh',[2,3,4,],4)"
   ]
  },
  {
   "cell_type": "code",
   "execution_count": 127,
   "id": "94b3b52b-cbcb-4433-8f0b-9ca0aa97b22f",
   "metadata": {},
   "outputs": [
    {
     "data": {
      "text/plain": [
       "(45, 'sudh', [2, 3, 4], 4)"
      ]
     },
     "execution_count": 127,
     "metadata": {},
     "output_type": "execute_result"
    }
   ],
   "source": [
    "h"
   ]
  },
  {
   "cell_type": "code",
   "execution_count": 132,
   "id": "2e4a2b93-3e5a-449e-a440-a83c24f007c2",
   "metadata": {},
   "outputs": [],
   "source": [
    "#list k under list remove krna hai\n",
    "h[2].remove(3) "
   ]
  },
  {
   "cell_type": "code",
   "execution_count": 133,
   "id": "07a9199d-9dde-481f-baf3-b836163d31d8",
   "metadata": {},
   "outputs": [
    {
     "data": {
      "text/plain": [
       "(45, 'sudh', [2, 4], 4)"
      ]
     },
     "execution_count": 133,
     "metadata": {},
     "output_type": "execute_result"
    }
   ],
   "source": [
    "h"
   ]
  },
  {
   "cell_type": "code",
   "execution_count": 134,
   "id": "e8155e97-8730-4045-a8db-a4df55f588dc",
   "metadata": {},
   "outputs": [
    {
     "ename": "AttributeError",
     "evalue": "'tuple' object has no attribute 'remove'",
     "output_type": "error",
     "traceback": [
      "\u001b[0;31m---------------------------------------------------------------------------\u001b[0m",
      "\u001b[0;31mAttributeError\u001b[0m                            Traceback (most recent call last)",
      "Cell \u001b[0;32mIn[134], line 2\u001b[0m\n\u001b[1;32m      1\u001b[0m \u001b[38;5;66;03m# dh remove krna hai string mai sai so can not remove because not saprate\u001b[39;00m\n\u001b[0;32m----> 2\u001b[0m \u001b[43mh\u001b[49m\u001b[38;5;241;43m.\u001b[39;49m\u001b[43mremove\u001b[49m(\u001b[38;5;241m4\u001b[39m)\n",
      "\u001b[0;31mAttributeError\u001b[0m: 'tuple' object has no attribute 'remove'"
     ]
    }
   ],
   "source": [
    "# dh remove krna hai string mai sai so can not remove because not saprate\n",
    "h.remove(4)"
   ]
  },
  {
   "cell_type": "code",
   "execution_count": 136,
   "id": "48a34b17-7c26-432b-a981-6ea23a880970",
   "metadata": {},
   "outputs": [
    {
     "data": {
      "text/plain": [
       "(45, 'sudh', [2, 4], 4)"
      ]
     },
     "execution_count": 136,
     "metadata": {},
     "output_type": "execute_result"
    }
   ],
   "source": [
    "h"
   ]
  },
  {
   "cell_type": "code",
   "execution_count": null,
   "id": "cd32dfa9-d7b5-4ed4-8e9d-2033e6595e31",
   "metadata": {},
   "outputs": [],
   "source": [
    "h.remove(4)"
   ]
  },
  {
   "cell_type": "code",
   "execution_count": 139,
   "id": "dafeceec-072b-4e45-8610-5098a684a43b",
   "metadata": {},
   "outputs": [
    {
     "data": {
      "text/plain": [
       "(45, 'sudh', [2, 4], 4)"
      ]
     },
     "execution_count": 139,
     "metadata": {},
     "output_type": "execute_result"
    }
   ],
   "source": [
    "h"
   ]
  },
  {
   "cell_type": "code",
   "execution_count": 145,
   "id": "86b39e41-d984-45b6-829e-257fda17ee38",
   "metadata": {},
   "outputs": [
    {
     "data": {
      "text/plain": [
       "(45, 'sudh', [2, 4], 4)"
      ]
     },
     "execution_count": 145,
     "metadata": {},
     "output_type": "execute_result"
    }
   ],
   "source": [
    "h"
   ]
  },
  {
   "cell_type": "code",
   "execution_count": 147,
   "id": "6d4139b9-0627-4c17-8114-c3614131ce83",
   "metadata": {},
   "outputs": [
    {
     "data": {
      "text/plain": [
       "(45, 'sudh', [2, 4], 4)"
      ]
     },
     "execution_count": 147,
     "metadata": {},
     "output_type": "execute_result"
    }
   ],
   "source": [
    "h"
   ]
  },
  {
   "cell_type": "code",
   "execution_count": 189,
   "id": "ce8044c1-dda0-4d7b-8b28-6f9919f17e2f",
   "metadata": {},
   "outputs": [
    {
     "ename": "AttributeError",
     "evalue": "'tuple' object has no attribute 'reverse'",
     "output_type": "error",
     "traceback": [
      "\u001b[0;31m---------------------------------------------------------------------------\u001b[0m",
      "\u001b[0;31mAttributeError\u001b[0m                            Traceback (most recent call last)",
      "Cell \u001b[0;32mIn[189], line 1\u001b[0m\n\u001b[0;32m----> 1\u001b[0m \u001b[43mh\u001b[49m\u001b[38;5;241;43m.\u001b[39;49m\u001b[43mreverse\u001b[49m()\n",
      "\u001b[0;31mAttributeError\u001b[0m: 'tuple' object has no attribute 'reverse'"
     ]
    }
   ],
   "source": [
    "h.reverse()"
   ]
  },
  {
   "cell_type": "code",
   "execution_count": 190,
   "id": "b80c04ee-bff3-40cd-977d-da51d17126b1",
   "metadata": {},
   "outputs": [
    {
     "data": {
      "text/plain": [
       "(45, 'sudh', [2, 4], 4)"
      ]
     },
     "execution_count": 190,
     "metadata": {},
     "output_type": "execute_result"
    }
   ],
   "source": [
    "# this function is not work so vale is same but work then value is reverse\n",
    "h"
   ]
  },
  {
   "cell_type": "code",
   "execution_count": 191,
   "id": "d1d5ab9d-404f-49ae-b39e-b222a6adeeac",
   "metadata": {},
   "outputs": [
    {
     "data": {
      "text/plain": [
       "(4, [2, 4], 'sudh', 45)"
      ]
     },
     "execution_count": 191,
     "metadata": {},
     "output_type": "execute_result"
    }
   ],
   "source": [
    "# it is reverse temprarory at that time original is not same\n",
    "h[::-1]"
   ]
  },
  {
   "cell_type": "code",
   "execution_count": null,
   "id": "736d5d70-3f50-4894-96a0-11ab515b0f75",
   "metadata": {},
   "outputs": [],
   "source": [
    "#it is reverse permanent\n",
    "h.reverse()"
   ]
  },
  {
   "cell_type": "code",
   "execution_count": 158,
   "id": "d6541b29-a02f-4727-aa50-70c69bb6992d",
   "metadata": {},
   "outputs": [
    {
     "data": {
      "text/plain": [
       "(45, 'sudh', [2, 4], 4)"
      ]
     },
     "execution_count": 158,
     "metadata": {},
     "output_type": "execute_result"
    }
   ],
   "source": [
    "h"
   ]
  },
  {
   "cell_type": "code",
   "execution_count": 159,
   "id": "bdc567da-0889-4d89-9204-940ff8c10a42",
   "metadata": {},
   "outputs": [
    {
     "data": {
      "text/plain": [
       "(45, 'sudh', [2, 4], 4)"
      ]
     },
     "execution_count": 159,
     "metadata": {},
     "output_type": "execute_result"
    }
   ],
   "source": [
    "h"
   ]
  },
  {
   "cell_type": "code",
   "execution_count": 188,
   "id": "b48873aa-0766-41d0-9aaa-93a73a610d04",
   "metadata": {},
   "outputs": [],
   "source": [
    "h=h[::-1]"
   ]
  },
  {
   "cell_type": "code",
   "execution_count": 200,
   "id": "71cc2b1f-9fd6-4ab2-bad7-f772b13a7927",
   "metadata": {},
   "outputs": [],
   "source": [
    "l2=[52,23,4,5,6,7,8]"
   ]
  },
  {
   "cell_type": "code",
   "execution_count": 202,
   "id": "6f5e39d3-808e-4a68-8d22-da98ac5498e3",
   "metadata": {},
   "outputs": [],
   "source": [
    "# SORT FUNCITION is use to arrange assanding order\n",
    "l2.sort()\n"
   ]
  },
  {
   "cell_type": "code",
   "execution_count": 203,
   "id": "efeab731-c380-489a-bdc7-5ffe049fe379",
   "metadata": {},
   "outputs": [
    {
     "data": {
      "text/plain": [
       "[4, 5, 6, 7, 8, 23, 52]"
      ]
     },
     "execution_count": 203,
     "metadata": {},
     "output_type": "execute_result"
    }
   ],
   "source": [
    "l2"
   ]
  },
  {
   "cell_type": "code",
   "execution_count": 204,
   "id": "bbdd1356-4f6a-4c10-b35f-dd9fa17ad510",
   "metadata": {},
   "outputs": [
    {
     "data": {
      "text/plain": [
       "(45, 'sudh', [2, 4], 4)"
      ]
     },
     "execution_count": 204,
     "metadata": {},
     "output_type": "execute_result"
    }
   ],
   "source": [
    "h"
   ]
  },
  {
   "cell_type": "code",
   "execution_count": 205,
   "id": "61847cde-c80c-4b6c-b4c6-de5cb29ec560",
   "metadata": {},
   "outputs": [
    {
     "ename": "AttributeError",
     "evalue": "'tuple' object has no attribute 'sort'",
     "output_type": "error",
     "traceback": [
      "\u001b[0;31m---------------------------------------------------------------------------\u001b[0m",
      "\u001b[0;31mAttributeError\u001b[0m                            Traceback (most recent call last)",
      "Cell \u001b[0;32mIn[205], line 1\u001b[0m\n\u001b[0;32m----> 1\u001b[0m \u001b[43mh\u001b[49m\u001b[38;5;241;43m.\u001b[39;49m\u001b[43msort\u001b[49m()\n",
      "\u001b[0;31mAttributeError\u001b[0m: 'tuple' object has no attribute 'sort'"
     ]
    }
   ],
   "source": [
    "# notcan  assanding order beacuse all not integer \n",
    "h.sort()"
   ]
  },
  {
   "cell_type": "code",
   "execution_count": 206,
   "id": "9fa22fb3-1bdf-4cf6-8b0e-f7f30f9dcf06",
   "metadata": {},
   "outputs": [
    {
     "data": {
      "text/plain": [
       "[4, 5, 6, 7, 8, 23, 52]"
      ]
     },
     "execution_count": 206,
     "metadata": {},
     "output_type": "execute_result"
    }
   ],
   "source": [
    "l2"
   ]
  },
  {
   "cell_type": "code",
   "execution_count": null,
   "id": "f47d88a9-bdc4-4cf9-8c95-ff235f143912",
   "metadata": {},
   "outputs": [],
   "source": [
    "l3=[33,'pus',45,68]\n"
   ]
  },
  {
   "cell_type": "code",
   "execution_count": 208,
   "id": "4a0f90c9-8199-449f-a397-37ffcfaebe3c",
   "metadata": {},
   "outputs": [
    {
     "ename": "NameError",
     "evalue": "name 'l3' is not defined",
     "output_type": "error",
     "traceback": [
      "\u001b[0;31m---------------------------------------------------------------------------\u001b[0m",
      "\u001b[0;31mNameError\u001b[0m                                 Traceback (most recent call last)",
      "Cell \u001b[0;32mIn[208], line 1\u001b[0m\n\u001b[0;32m----> 1\u001b[0m \u001b[43ml3\u001b[49m\u001b[38;5;241m.\u001b[39msort()\n",
      "\u001b[0;31mNameError\u001b[0m: name 'l3' is not defined"
     ]
    }
   ],
   "source": [
    "l3.sort()"
   ]
  },
  {
   "cell_type": "code",
   "execution_count": 6,
   "id": "a088895b-c938-4901-b4cc-c1144d456902",
   "metadata": {},
   "outputs": [],
   "source": [
    "l4 = ['ram', 'shyam', 'sita', 'radhey']"
   ]
  },
  {
   "cell_type": "code",
   "execution_count": 217,
   "id": "d97dbf1a-5f77-43c3-9dfe-1aeb3a72d276",
   "metadata": {},
   "outputs": [],
   "source": [
    "l4.sort()"
   ]
  },
  {
   "cell_type": "code",
   "execution_count": 7,
   "id": "d941dc19-1759-4fd8-a7a9-1a5fae72d86c",
   "metadata": {},
   "outputs": [
    {
     "data": {
      "text/plain": [
       "['ram', 'shyam', 'sita', 'radhey']"
      ]
     },
     "execution_count": 7,
     "metadata": {},
     "output_type": "execute_result"
    }
   ],
   "source": [
    "l4"
   ]
  },
  {
   "cell_type": "code",
   "execution_count": 8,
   "id": "7037fe22-1b02-49a2-8ec8-a6d95b96ecee",
   "metadata": {},
   "outputs": [],
   "source": [
    "# decreasing order\n",
    "l4.sort(reverse=True)"
   ]
  },
  {
   "cell_type": "code",
   "execution_count": 9,
   "id": "6c32e736-1152-43e8-b5ed-433f72f83c9d",
   "metadata": {},
   "outputs": [
    {
     "data": {
      "text/plain": [
       "['sita', 'shyam', 'ram', 'radhey']"
      ]
     },
     "execution_count": 9,
     "metadata": {},
     "output_type": "execute_result"
    }
   ],
   "source": [
    "l4"
   ]
  },
  {
   "cell_type": "code",
   "execution_count": 10,
   "id": "0e9e45d4-ac3f-4e5e-b2f9-79ba781e0228",
   "metadata": {},
   "outputs": [
    {
     "data": {
      "text/plain": [
       "['sita', 'shyam', 'ram', 'radhey']"
      ]
     },
     "execution_count": 10,
     "metadata": {},
     "output_type": "execute_result"
    }
   ],
   "source": [
    "l4"
   ]
  },
  {
   "cell_type": "code",
   "execution_count": 11,
   "id": "77fdb5df-5a8e-49e1-ad21-33e53333fb18",
   "metadata": {},
   "outputs": [
    {
     "data": {
      "text/plain": [
       "0"
      ]
     },
     "execution_count": 11,
     "metadata": {},
     "output_type": "execute_result"
    }
   ],
   "source": [
    "# this is inform index position\n",
    "l4.index(\"sita\")"
   ]
  },
  {
   "cell_type": "code",
   "execution_count": 12,
   "id": "cd74369f-881d-4c33-9847-ce85f8c63173",
   "metadata": {},
   "outputs": [
    {
     "data": {
      "text/plain": [
       "1"
      ]
     },
     "execution_count": 12,
     "metadata": {},
     "output_type": "execute_result"
    }
   ],
   "source": [
    "# yh sita kitni baar aaya hai vo batayega\n",
    "l4.count(\"sita\")"
   ]
  },
  {
   "cell_type": "code",
   "execution_count": 13,
   "id": "134a2c50-8e75-49f5-8532-46b7caf43dbe",
   "metadata": {},
   "outputs": [
    {
     "data": {
      "text/plain": [
       "['sita', 'shyam', 'ram', 'radhey']"
      ]
     },
     "execution_count": 13,
     "metadata": {},
     "output_type": "execute_result"
    }
   ],
   "source": [
    "l4"
   ]
  },
  {
   "cell_type": "code",
   "execution_count": 16,
   "id": "677c21c0-4a39-480e-9032-6ce74a81da55",
   "metadata": {},
   "outputs": [],
   "source": [
    "s='sudh'"
   ]
  },
  {
   "cell_type": "code",
   "execution_count": 26,
   "id": "c49338a9-9ae3-482b-93c7-e77c7d8ce232",
   "metadata": {},
   "outputs": [],
   "source": [
    "l5 = [3,4,5]"
   ]
  },
  {
   "cell_type": "code",
   "execution_count": 17,
   "id": "5b00efd5-7c77-43ff-92df-10d4b9ddbdf9",
   "metadata": {},
   "outputs": [
    {
     "data": {
      "text/plain": [
       "'s'"
      ]
     },
     "execution_count": 17,
     "metadata": {},
     "output_type": "execute_result"
    }
   ],
   "source": [
    "#  s ko bhar nikalo\n",
    "s[0]"
   ]
  },
  {
   "cell_type": "code",
   "execution_count": 19,
   "id": "13340c88-0bc4-4456-873e-0826d95dcdea",
   "metadata": {},
   "outputs": [
    {
     "ename": "TypeError",
     "evalue": "'str' object does not support item assignment",
     "output_type": "error",
     "traceback": [
      "\u001b[0;31m---------------------------------------------------------------------------\u001b[0m",
      "\u001b[0;31mTypeError\u001b[0m                                 Traceback (most recent call last)",
      "Cell \u001b[0;32mIn[19], line 2\u001b[0m\n\u001b[1;32m      1\u001b[0m \u001b[38;5;66;03m# s replace a\u001b[39;00m\n\u001b[0;32m----> 2\u001b[0m \u001b[43ms\u001b[49m\u001b[43m[\u001b[49m\u001b[38;5;241;43m0\u001b[39;49m\u001b[43m]\u001b[49m\u001b[38;5;241m=\u001b[39m \u001b[38;5;124m'\u001b[39m\u001b[38;5;124ma\u001b[39m\u001b[38;5;124m'\u001b[39m\n",
      "\u001b[0;31mTypeError\u001b[0m: 'str' object does not support item assignment"
     ]
    }
   ],
   "source": [
    "# s replace a\n",
    "s[0]= 'a'"
   ]
  },
  {
   "cell_type": "code",
   "execution_count": 27,
   "id": "fc5ad0a9-6004-4067-93bc-77c8015fdcd5",
   "metadata": {},
   "outputs": [
    {
     "data": {
      "text/plain": [
       "[3, 4, 5]"
      ]
     },
     "execution_count": 27,
     "metadata": {},
     "output_type": "execute_result"
    }
   ],
   "source": [
    "l5"
   ]
  },
  {
   "cell_type": "code",
   "execution_count": 28,
   "id": "dbebd501-5f49-474f-befe-ad47976c32cd",
   "metadata": {},
   "outputs": [],
   "source": [
    "# 0 replace 30. it is mutablelity.\n",
    "l5[0]=30"
   ]
  },
  {
   "cell_type": "code",
   "execution_count": 29,
   "id": "602bd205-4be3-4a67-8824-2a3155272bc5",
   "metadata": {},
   "outputs": [
    {
     "data": {
      "text/plain": [
       "[30, 4, 5]"
      ]
     },
     "execution_count": 29,
     "metadata": {},
     "output_type": "execute_result"
    }
   ],
   "source": [
    "l5"
   ]
  },
  {
   "cell_type": "code",
   "execution_count": 30,
   "id": "d25bbe4f-02fc-45c9-9eb2-55d34c41272e",
   "metadata": {},
   "outputs": [
    {
     "data": {
      "text/plain": [
       "'sudh'"
      ]
     },
     "execution_count": 30,
     "metadata": {},
     "output_type": "execute_result"
    }
   ],
   "source": [
    "s"
   ]
  },
  {
   "cell_type": "code",
   "execution_count": 31,
   "id": "47410b62-ae57-4bd7-a9df-1e6c586fbd6f",
   "metadata": {},
   "outputs": [
    {
     "data": {
      "text/plain": [
       "'audh'"
      ]
     },
     "execution_count": 31,
     "metadata": {},
     "output_type": "execute_result"
    }
   ],
   "source": [
    "#s is replace by a only temperary\n",
    "s.replace('s' , 'a')"
   ]
  },
  {
   "cell_type": "code",
   "execution_count": 32,
   "id": "b00aed6a-6a36-4017-8955-1f0e798d54dc",
   "metadata": {},
   "outputs": [
    {
     "data": {
      "text/plain": [
       "'sudh'"
      ]
     },
     "execution_count": 32,
     "metadata": {},
     "output_type": "execute_result"
    }
   ],
   "source": [
    "s"
   ]
  },
  {
   "cell_type": "code",
   "execution_count": 47,
   "id": "61a49427-81c8-4fa5-889e-d87221128a7a",
   "metadata": {},
   "outputs": [],
   "source": [
    "# list k under data ko suare bracket mai rakte hai\n",
    "# tupler mai normal bracket use krrte hai\n",
    "v =(2,3,4,5, 'sudh', 45.67, 5+9j , False, [3,4,5] )"
   ]
  },
  {
   "cell_type": "code",
   "execution_count": 48,
   "id": "4ca12d04-945d-4e84-8513-df9d9069c86f",
   "metadata": {},
   "outputs": [
    {
     "data": {
      "text/plain": [
       "(2, 3, 4, 5, 'sudh', 45.67, (5+9j), False, [3, 4, 5])"
      ]
     },
     "execution_count": 48,
     "metadata": {},
     "output_type": "execute_result"
    }
   ],
   "source": [
    "v"
   ]
  },
  {
   "cell_type": "code",
   "execution_count": 49,
   "id": "0471ced9-8450-49e6-a63b-3c89c5baac96",
   "metadata": {},
   "outputs": [
    {
     "data": {
      "text/plain": [
       "tuple"
      ]
     },
     "execution_count": 49,
     "metadata": {},
     "output_type": "execute_result"
    }
   ],
   "source": [
    "type(v)"
   ]
  },
  {
   "cell_type": "code",
   "execution_count": 51,
   "id": "639a3709-faee-4758-95ff-041feec27da5",
   "metadata": {},
   "outputs": [
    {
     "data": {
      "text/plain": [
       "9"
      ]
     },
     "execution_count": 51,
     "metadata": {},
     "output_type": "execute_result"
    }
   ],
   "source": [
    "#length\n",
    "len(v)"
   ]
  },
  {
   "cell_type": "code",
   "execution_count": 52,
   "id": "328856f0-e2c4-4e56-874f-fb0a732f1355",
   "metadata": {},
   "outputs": [
    {
     "data": {
      "text/plain": [
       "2"
      ]
     },
     "execution_count": 52,
     "metadata": {},
     "output_type": "execute_result"
    }
   ],
   "source": [
    "v[0]"
   ]
  },
  {
   "cell_type": "code",
   "execution_count": 53,
   "id": "e258112f-d577-49bf-a666-a2b5ca4bcaad",
   "metadata": {},
   "outputs": [
    {
     "data": {
      "text/plain": [
       "[3, 4, 5]"
      ]
     },
     "execution_count": 53,
     "metadata": {},
     "output_type": "execute_result"
    }
   ],
   "source": [
    "v[-1]"
   ]
  },
  {
   "cell_type": "code",
   "execution_count": 55,
   "id": "0ef652e9-53bb-4c90-94c8-ee96d05a3a93",
   "metadata": {},
   "outputs": [
    {
     "data": {
      "text/plain": [
       "([3, 4, 5], False, (5+9j), 45.67, 'sudh', 5, 4, 3, 2)"
      ]
     },
     "execution_count": 55,
     "metadata": {},
     "output_type": "execute_result"
    }
   ],
   "source": [
    "# reverse data \n",
    "v[::-1]"
   ]
  },
  {
   "cell_type": "code",
   "execution_count": 56,
   "id": "25a1d9de-e1ee-4352-8b9f-0e63be20aa54",
   "metadata": {},
   "outputs": [
    {
     "data": {
      "text/plain": [
       "['sita', 'shyam', 'ram', 'radhey']"
      ]
     },
     "execution_count": 56,
     "metadata": {},
     "output_type": "execute_result"
    }
   ],
   "source": [
    "l4"
   ]
  },
  {
   "cell_type": "code",
   "execution_count": 57,
   "id": "c992ad09-ce2f-41c0-aae1-9d1ab1be3661",
   "metadata": {},
   "outputs": [
    {
     "data": {
      "text/plain": [
       "'sita'"
      ]
     },
     "execution_count": 57,
     "metadata": {},
     "output_type": "execute_result"
    }
   ],
   "source": [
    "l4[0]"
   ]
  },
  {
   "cell_type": "code",
   "execution_count": 58,
   "id": "2076d157-8071-47d6-af27-7e7962f2cfb4",
   "metadata": {},
   "outputs": [],
   "source": [
    "# replace sita into 123 (it is basic diffrence list and tupler)\n",
    "l4[0]=123"
   ]
  },
  {
   "cell_type": "code",
   "execution_count": 59,
   "id": "d707930c-2f4f-48d6-98d7-27c89c1ba924",
   "metadata": {},
   "outputs": [
    {
     "data": {
      "text/plain": [
       "[123, 'shyam', 'ram', 'radhey']"
      ]
     },
     "execution_count": 59,
     "metadata": {},
     "output_type": "execute_result"
    }
   ],
   "source": [
    "l4"
   ]
  },
  {
   "cell_type": "code",
   "execution_count": 3,
   "id": "066caebf-2913-486a-8e09-bad1c7723481",
   "metadata": {},
   "outputs": [
    {
     "ename": "NameError",
     "evalue": "name 'v' is not defined",
     "output_type": "error",
     "traceback": [
      "\u001b[0;31m---------------------------------------------------------------------------\u001b[0m",
      "\u001b[0;31mNameError\u001b[0m                                 Traceback (most recent call last)",
      "Cell \u001b[0;32mIn[3], line 1\u001b[0m\n\u001b[0;32m----> 1\u001b[0m \u001b[43mv\u001b[49m\n",
      "\u001b[0;31mNameError\u001b[0m: name 'v' is not defined"
     ]
    }
   ],
   "source": [
    "v"
   ]
  },
  {
   "cell_type": "code",
   "execution_count": 62,
   "id": "27b634e8-809a-483c-b18d-062f7ce6ce94",
   "metadata": {},
   "outputs": [
    {
     "ename": "TypeError",
     "evalue": "'tuple' object does not support item assignment",
     "output_type": "error",
     "traceback": [
      "\u001b[0;31m---------------------------------------------------------------------------\u001b[0m",
      "\u001b[0;31mTypeError\u001b[0m                                 Traceback (most recent call last)",
      "Cell \u001b[0;32mIn[62], line 1\u001b[0m\n\u001b[0;32m----> 1\u001b[0m \u001b[43mv\u001b[49m\u001b[43m[\u001b[49m\u001b[38;5;241;43m0\u001b[39;49m\u001b[43m]\u001b[49m \u001b[38;5;241m=\u001b[39m\u001b[38;5;124m'\u001b[39m\u001b[38;5;124msudh\u001b[39m\u001b[38;5;124m'\u001b[39m\n",
      "\u001b[0;31mTypeError\u001b[0m: 'tuple' object does not support item assignment"
     ]
    }
   ],
   "source": [
    "v[0] ='sudh'"
   ]
  },
  {
   "cell_type": "code",
   "execution_count": 4,
   "id": "1df93877-1382-4a86-9628-0003cc96ffa8",
   "metadata": {},
   "outputs": [],
   "source": [
    "v =(2,3,4,5, 'sudh', 45.67, 5+9j , False, [3,4,5] )"
   ]
  },
  {
   "cell_type": "code",
   "execution_count": 5,
   "id": "8388036d-701d-4bdd-b7da-db98ecf72977",
   "metadata": {},
   "outputs": [
    {
     "data": {
      "text/plain": [
       "(2, 3, 4, 5, 'sudh', 45.67, (5+9j), False, [3, 4, 5])"
      ]
     },
     "execution_count": 5,
     "metadata": {},
     "output_type": "execute_result"
    }
   ],
   "source": [
    "v"
   ]
  },
  {
   "cell_type": "code",
   "execution_count": 6,
   "id": "47de8d10-c2bd-4632-bda7-981f084e8825",
   "metadata": {},
   "outputs": [
    {
     "data": {
      "text/plain": [
       "([3, 4, 5], False, (5+9j), 45.67, 'sudh', 5, 4, 3, 2)"
      ]
     },
     "execution_count": 6,
     "metadata": {},
     "output_type": "execute_result"
    }
   ],
   "source": [
    "#tis is reverse\n",
    "v[::-1]"
   ]
  },
  {
   "cell_type": "code",
   "execution_count": 7,
   "id": "34efe5a8-c949-4094-a69a-8c4a0ffe1c96",
   "metadata": {},
   "outputs": [
    {
     "data": {
      "text/plain": [
       "1"
      ]
     },
     "execution_count": 7,
     "metadata": {},
     "output_type": "execute_result"
    }
   ],
   "source": [
    "v.count(5)                  "
   ]
  },
  {
   "cell_type": "code",
   "execution_count": 9,
   "id": "f7eb8d5f-87a2-40fb-be2d-3ee66f160a1f",
   "metadata": {},
   "outputs": [
    {
     "data": {
      "text/plain": [
       "7"
      ]
     },
     "execution_count": 9,
     "metadata": {},
     "output_type": "execute_result"
    }
   ],
   "source": [
    "v.index(False)"
   ]
  },
  {
   "cell_type": "code",
   "execution_count": 10,
   "id": "ace8afe9-a4d5-4f68-b549-25f70600e767",
   "metadata": {},
   "outputs": [
    {
     "data": {
      "text/plain": [
       "(2, 3, 4, 5, 'sudh', 45.67, (5+9j), False, [3, 4, 5])"
      ]
     },
     "execution_count": 10,
     "metadata": {},
     "output_type": "execute_result"
    }
   ],
   "source": [
    "v"
   ]
  },
  {
   "cell_type": "code",
   "execution_count": 11,
   "id": "b463a0bd-20c4-46c5-af95-e27508236361",
   "metadata": {},
   "outputs": [],
   "source": [
    "# this is like set\n",
    "m={}"
   ]
  },
  {
   "cell_type": "code",
   "execution_count": 12,
   "id": "802febc8-e24d-4212-a2a6-3d8ec4f796bd",
   "metadata": {},
   "outputs": [
    {
     "data": {
      "text/plain": [
       "dict"
      ]
     },
     "execution_count": 12,
     "metadata": {},
     "output_type": "execute_result"
    }
   ],
   "source": [
    "type(m)"
   ]
  },
  {
   "cell_type": "code",
   "execution_count": 13,
   "id": "64299ca0-8731-41f1-b155-ae72e5cfe636",
   "metadata": {},
   "outputs": [],
   "source": [
    "m1={2,3,4,55,6}"
   ]
  },
  {
   "cell_type": "code",
   "execution_count": 14,
   "id": "e2b60185-6892-48e9-a754-af065b359909",
   "metadata": {},
   "outputs": [
    {
     "data": {
      "text/plain": [
       "set"
      ]
     },
     "execution_count": 14,
     "metadata": {},
     "output_type": "execute_result"
    }
   ],
   "source": [
    "type(m1)"
   ]
  },
  {
   "cell_type": "code",
   "execution_count": 17,
   "id": "7d6af164-cf59-4996-91cb-300123527fba",
   "metadata": {},
   "outputs": [],
   "source": [
    "m2= {23,34,3489, 'sudh',67+89j,(2,3,4)}"
   ]
  },
  {
   "cell_type": "code",
   "execution_count": 18,
   "id": "8aec258f-8f62-4523-867f-197d81807d55",
   "metadata": {},
   "outputs": [
    {
     "data": {
      "text/plain": [
       "{(2, 3, 4), (67+89j), 23, 34, 3489, 'sudh'}"
      ]
     },
     "execution_count": 18,
     "metadata": {},
     "output_type": "execute_result"
    }
   ],
   "source": [
    "m2\n"
   ]
  },
  {
   "cell_type": "code",
   "execution_count": 19,
   "id": "71f643f7-f024-4150-b601-e64634bb2196",
   "metadata": {},
   "outputs": [],
   "source": [
    "#we must unique element\n",
    "m3={2,3,4,5,6,7,8,9,2,3,4,5,6,7,8,9,3,3,2,2}"
   ]
  },
  {
   "cell_type": "code",
   "execution_count": 20,
   "id": "4263b687-36da-4a62-a473-d7e86a49e94f",
   "metadata": {},
   "outputs": [
    {
     "data": {
      "text/plain": [
       "{2, 3, 4, 5, 6, 7, 8, 9}"
      ]
     },
     "execution_count": 20,
     "metadata": {},
     "output_type": "execute_result"
    }
   ],
   "source": [
    "# remove repeated data\n",
    "m3"
   ]
  },
  {
   "cell_type": "code",
   "execution_count": 41,
   "id": "b8b44459-5c99-4e0f-a410-8555cb9f66d5",
   "metadata": {},
   "outputs": [],
   "source": [
    "# set ka kaam duplicate ko remove krne k liye aata hai\n",
    "m4={2,3,4,56,7,8,4,3,2,'ram','Ram'}"
   ]
  },
  {
   "cell_type": "code",
   "execution_count": 42,
   "id": "688c1ec1-4fdc-4d13-952f-a3422e48d0a0",
   "metadata": {},
   "outputs": [
    {
     "data": {
      "text/plain": [
       "{2, 3, 4, 56, 7, 8, 'Ram', 'ram'}"
      ]
     },
     "execution_count": 42,
     "metadata": {},
     "output_type": "execute_result"
    }
   ],
   "source": [
    "m4\n"
   ]
  },
  {
   "cell_type": "code",
   "execution_count": null,
   "id": "662cb9b3-9d08-4ef7-953d-543c6ab0d156",
   "metadata": {},
   "outputs": [],
   "source": [
    "# other method is ki=list(set(k1))\n",
    "k1=[22,3,4,5,6,7,4,53,3,4,5,'Ram','ram']"
   ]
  },
  {
   "cell_type": "code",
   "execution_count": 26,
   "id": "c227779e-4662-485f-9a04-86c5541af73f",
   "metadata": {},
   "outputs": [
    {
     "data": {
      "text/plain": [
       "{22, 3, 4, 5, 53, 6, 7, 'Ram', 'ram'}"
      ]
     },
     "execution_count": 26,
     "metadata": {},
     "output_type": "execute_result"
    }
   ],
   "source": [
    "set(k1)"
   ]
  },
  {
   "cell_type": "markdown",
   "id": "203b48ed-96c2-4248-8a0d-a7c3acdb3238",
   "metadata": {},
   "source": [
    "k1=list(set(k1))"
   ]
  },
  {
   "cell_type": "code",
   "execution_count": 36,
   "id": "c182dd4a-46c9-4958-b598-bd5d4c2a2eb5",
   "metadata": {},
   "outputs": [],
   "source": [
    "# set never arrange and order\n",
    "k1=list(set(k1))"
   ]
  },
  {
   "cell_type": "code",
   "execution_count": 37,
   "id": "6968438e-6b31-4662-a137-41080e17788c",
   "metadata": {},
   "outputs": [
    {
     "data": {
      "text/plain": [
       "[3, 4, 5, 6, 7, 'Ram', 'ram', 53, 22]"
      ]
     },
     "execution_count": 37,
     "metadata": {},
     "output_type": "execute_result"
    }
   ],
   "source": [
    "k1"
   ]
  },
  {
   "cell_type": "code",
   "execution_count": 38,
   "id": "8db280f4-8376-4a40-8715-f3ef4f5951fe",
   "metadata": {},
   "outputs": [
    {
     "data": {
      "text/plain": [
       "3"
      ]
     },
     "execution_count": 38,
     "metadata": {},
     "output_type": "execute_result"
    }
   ],
   "source": [
    "k1[0]"
   ]
  },
  {
   "cell_type": "code",
   "execution_count": 39,
   "id": "adeb6a0d-2926-48d0-82d9-961a4e8dbd29",
   "metadata": {},
   "outputs": [
    {
     "ename": "TypeError",
     "evalue": "'set' object is not subscriptable",
     "output_type": "error",
     "traceback": [
      "\u001b[0;31m---------------------------------------------------------------------------\u001b[0m",
      "\u001b[0;31mTypeError\u001b[0m                                 Traceback (most recent call last)",
      "Cell \u001b[0;32mIn[39], line 1\u001b[0m\n\u001b[0;32m----> 1\u001b[0m \u001b[43mm4\u001b[49m\u001b[43m[\u001b[49m\u001b[38;5;241;43m0\u001b[39;49m\u001b[43m]\u001b[49m\n",
      "\u001b[0;31mTypeError\u001b[0m: 'set' object is not subscriptable"
     ]
    }
   ],
   "source": [
    "# this is indexing operation(in case of work in string ,list, triple)but set is not work on indexing operation\n",
    "m4[0]"
   ]
  },
  {
   "cell_type": "code",
   "execution_count": 40,
   "id": "9db103eb-03e0-4a9a-8a2a-7302838c7eed",
   "metadata": {},
   "outputs": [
    {
     "ename": "TypeError",
     "evalue": "'set' object is not subscriptable",
     "output_type": "error",
     "traceback": [
      "\u001b[0;31m---------------------------------------------------------------------------\u001b[0m",
      "\u001b[0;31mTypeError\u001b[0m                                 Traceback (most recent call last)",
      "Cell \u001b[0;32mIn[40], line 1\u001b[0m\n\u001b[0;32m----> 1\u001b[0m \u001b[43mm4\u001b[49m\u001b[43m[\u001b[49m\u001b[43m:\u001b[49m\u001b[43m:\u001b[49m\u001b[38;5;241;43m-\u001b[39;49m\u001b[38;5;241;43m1\u001b[39;49m\u001b[43m]\u001b[49m\n",
      "\u001b[0;31mTypeError\u001b[0m: 'set' object is not subscriptable"
     ]
    }
   ],
   "source": [
    "# this is slicing operation but set is not work on this operation \n",
    "m4[::-1]"
   ]
  },
  {
   "cell_type": "code",
   "execution_count": 43,
   "id": "1345135a-dbe5-49a9-8af0-7b9b172dbdf8",
   "metadata": {},
   "outputs": [
    {
     "data": {
      "text/plain": [
       "{2, 3, 4, 56, 7, 8, 'Ram', 'ram'}"
      ]
     },
     "execution_count": 43,
     "metadata": {},
     "output_type": "execute_result"
    }
   ],
   "source": [
    "m4"
   ]
  },
  {
   "cell_type": "code",
   "execution_count": 46,
   "id": "95b9ce42-6b91-45c8-a7af-a9f408a1ca80",
   "metadata": {},
   "outputs": [],
   "source": [
    "# this is add is unique but random position\n",
    "m4.add(94)"
   ]
  },
  {
   "cell_type": "code",
   "execution_count": 47,
   "id": "fba8cc2e-9174-4e6c-a457-79231915146b",
   "metadata": {},
   "outputs": [
    {
     "data": {
      "text/plain": [
       "{2, 3, 4, 56, 7, 8, 94, 'Ram', 'ram'}"
      ]
     },
     "execution_count": 47,
     "metadata": {},
     "output_type": "execute_result"
    }
   ],
   "source": [
    "m4"
   ]
  },
  {
   "cell_type": "code",
   "execution_count": 48,
   "id": "9c2f92f3-a8f8-4cd9-8dc0-7f5803045a12",
   "metadata": {},
   "outputs": [],
   "source": [
    "# this is remove value\n",
    "m4.remove(7)"
   ]
  },
  {
   "cell_type": "code",
   "execution_count": 49,
   "id": "b98a8bba-47bf-4600-9132-6c7dd6857928",
   "metadata": {},
   "outputs": [
    {
     "data": {
      "text/plain": [
       "{2, 3, 4, 56, 8, 94, 'Ram', 'ram'}"
      ]
     },
     "execution_count": 49,
     "metadata": {},
     "output_type": "execute_result"
    }
   ],
   "source": [
    "m4"
   ]
  },
  {
   "cell_type": "code",
   "execution_count": 50,
   "id": "3be794c5-f5ec-4c20-b960-f669b6ad3178",
   "metadata": {},
   "outputs": [],
   "source": [
    "# this is last"
   ]
  },
  {
   "cell_type": "code",
   "execution_count": null,
   "id": "1cf5b48c-df65-4878-bd87-6735991b7988",
   "metadata": {},
   "outputs": [],
   "source": []
  }
 ],
 "metadata": {
  "kernelspec": {
   "display_name": "Python 3 (ipykernel)",
   "language": "python",
   "name": "python3"
  },
  "language_info": {
   "codemirror_mode": {
    "name": "ipython",
    "version": 3
   },
   "file_extension": ".py",
   "mimetype": "text/x-python",
   "name": "python",
   "nbconvert_exporter": "python",
   "pygments_lexer": "ipython3",
   "version": "3.10.8"
  },
  "toc-showcode": true
 },
 "nbformat": 4,
 "nbformat_minor": 5
}
