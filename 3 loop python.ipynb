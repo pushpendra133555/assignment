{
 "cells": [
  {
   "cell_type": "code",
   "execution_count": 1,
   "id": "7cea2232-33e2-4815-a262-d94671c8f078",
   "metadata": {},
   "outputs": [],
   "source": [
    "d={}"
   ]
  },
  {
   "cell_type": "code",
   "execution_count": 2,
   "id": "c6ffc129-62b3-4d09-94d2-16afc533e6b4",
   "metadata": {},
   "outputs": [
    {
     "data": {
      "text/plain": [
       "dict"
      ]
     },
     "execution_count": 2,
     "metadata": {},
     "output_type": "execute_result"
    }
   ],
   "source": [
    "type(d)"
   ]
  },
  {
   "cell_type": "code",
   "execution_count": 3,
   "id": "a0825e9e-286c-4acf-96c2-1e76d0c1ec10",
   "metadata": {},
   "outputs": [],
   "source": [
    "# data is store key(word:vale)\n",
    "d1={'key' : 'sudh'}"
   ]
  },
  {
   "cell_type": "code",
   "execution_count": 4,
   "id": "49cea091-6db8-4e25-863d-b3751bae768e",
   "metadata": {},
   "outputs": [
    {
     "data": {
      "text/plain": [
       "{'key': 'sudh'}"
      ]
     },
     "execution_count": 4,
     "metadata": {},
     "output_type": "execute_result"
    }
   ],
   "source": [
    "d1"
   ]
  },
  {
   "cell_type": "code",
   "execution_count": 6,
   "id": "de9b9ea0-80f3-4ea8-a377-7b2967433680",
   "metadata": {},
   "outputs": [],
   "source": [
    "# in this diffrent diffrent key and value\n",
    "d2={'name': 'pushpendra', 'email': 'pushpendra@','number': 9412176}"
   ]
  },
  {
   "cell_type": "code",
   "execution_count": 7,
   "id": "308f9f12-690c-4b65-878d-fcbfc99e4408",
   "metadata": {},
   "outputs": [
    {
     "data": {
      "text/plain": [
       "{'name': 'pushpendra', 'email': 'pushpendra@', 'number': 9412176}"
      ]
     },
     "execution_count": 7,
     "metadata": {},
     "output_type": "execute_result"
    }
   ],
   "source": [
    "d2"
   ]
  },
  {
   "cell_type": "code",
   "execution_count": 8,
   "id": "ceccb149-5dee-4e4e-a3ba-9fe153195167",
   "metadata": {},
   "outputs": [],
   "source": [
    "d3={234: 'ram'}"
   ]
  },
  {
   "cell_type": "code",
   "execution_count": 9,
   "id": "0b5a9561-809b-4ff9-8649-6804157b4e36",
   "metadata": {},
   "outputs": [
    {
     "data": {
      "text/plain": [
       "{234: 'ram'}"
      ]
     },
     "execution_count": 9,
     "metadata": {},
     "output_type": "execute_result"
    }
   ],
   "source": [
    "d3"
   ]
  },
  {
   "cell_type": "code",
   "execution_count": 13,
   "id": "3af6c46f-fbe8-4b8a-9402-eeb1dba62c46",
   "metadata": {},
   "outputs": [],
   "source": [
    "d4={234:'sita', \"@\":'kumar', True: 2345}"
   ]
  },
  {
   "cell_type": "code",
   "execution_count": 14,
   "id": "57b3a63d-07af-4370-bf9d-5e662823b11d",
   "metadata": {},
   "outputs": [
    {
     "data": {
      "text/plain": [
       "{234: 'ram'}"
      ]
     },
     "execution_count": 14,
     "metadata": {},
     "output_type": "execute_result"
    }
   ],
   "source": [
    "d3"
   ]
  },
  {
   "cell_type": "code",
   "execution_count": 15,
   "id": "9f383c2e-02fa-4724-a01d-4f3bddfa5011",
   "metadata": {},
   "outputs": [
    {
     "data": {
      "text/plain": [
       "{234: 'sita', '@': 'kumar', True: 2345}"
      ]
     },
     "execution_count": 15,
     "metadata": {},
     "output_type": "execute_result"
    }
   ],
   "source": [
    "d4"
   ]
  },
  {
   "cell_type": "code",
   "execution_count": 18,
   "id": "308791b5-977a-43eb-aa93-6f9abe97edad",
   "metadata": {},
   "outputs": [
    {
     "data": {
      "text/plain": [
       "'sita'"
      ]
     },
     "execution_count": 18,
     "metadata": {},
     "output_type": "execute_result"
    }
   ],
   "source": [
    "# value niklna hai\n",
    "d4[234]"
   ]
  },
  {
   "cell_type": "code",
   "execution_count": 19,
   "id": "9c756d70-687f-4e42-adfb-8b07e99ff616",
   "metadata": {},
   "outputs": [
    {
     "data": {
      "text/plain": [
       "2345"
      ]
     },
     "execution_count": 19,
     "metadata": {},
     "output_type": "execute_result"
    }
   ],
   "source": [
    "d4[True]"
   ]
  },
  {
   "cell_type": "code",
   "execution_count": 20,
   "id": "1546ed52-f66a-4e1e-a44f-689262613444",
   "metadata": {},
   "outputs": [
    {
     "data": {
      "text/plain": [
       "2345"
      ]
     },
     "execution_count": 20,
     "metadata": {},
     "output_type": "execute_result"
    }
   ],
   "source": [
    "# true value is one in boolen\n",
    "d4[1]"
   ]
  },
  {
   "cell_type": "code",
   "execution_count": 21,
   "id": "b0d2f377-b235-4fbe-ba1e-e0536d6ad7be",
   "metadata": {},
   "outputs": [],
   "source": [
    "d5={'name':'ram','sudh':'678', 'name':'sita'}"
   ]
  },
  {
   "cell_type": "code",
   "execution_count": 23,
   "id": "a01ecc97-c40d-48fa-9420-c7e4b79feeaf",
   "metadata": {},
   "outputs": [
    {
     "data": {
      "text/plain": [
       "'sita'"
      ]
     },
     "execution_count": 23,
     "metadata": {},
     "output_type": "execute_result"
    }
   ],
   "source": [
    "# name is two time so vale niklega last wala ist wala bhul jayega\n",
    "d5['name']"
   ]
  },
  {
   "cell_type": "code",
   "execution_count": 24,
   "id": "4c90c8b1-89af-4d6e-9440-166e6fdc241c",
   "metadata": {},
   "outputs": [],
   "source": [
    "d6={'company': 'pwskills', 'course':['web','data science', 'java']}"
   ]
  },
  {
   "cell_type": "code",
   "execution_count": 25,
   "id": "4592ed0b-d5db-4841-b79a-5e821dbcea65",
   "metadata": {},
   "outputs": [
    {
     "data": {
      "text/plain": [
       "{'company': 'pwskills', 'course': ['web', 'data science', 'java']}"
      ]
     },
     "execution_count": 25,
     "metadata": {},
     "output_type": "execute_result"
    }
   ],
   "source": [
    "d6"
   ]
  },
  {
   "cell_type": "code",
   "execution_count": 26,
   "id": "e9f33f26-202d-4adc-a5c9-ef2b8fa9a621",
   "metadata": {},
   "outputs": [
    {
     "data": {
      "text/plain": [
       "['web', 'data science', 'java']"
      ]
     },
     "execution_count": 26,
     "metadata": {},
     "output_type": "execute_result"
    }
   ],
   "source": [
    "# data ko bhar nikala hai\n",
    "d6['course']"
   ]
  },
  {
   "cell_type": "code",
   "execution_count": 27,
   "id": "74bdd3a2-2d81-4eac-9127-82c2fc500172",
   "metadata": {},
   "outputs": [
    {
     "data": {
      "text/plain": [
       "'java'"
      ]
     },
     "execution_count": 27,
     "metadata": {},
     "output_type": "execute_result"
    }
   ],
   "source": [
    "d6['course'][2]"
   ]
  },
  {
   "cell_type": "code",
   "execution_count": 36,
   "id": "a6ce522a-2a0c-4e45-a993-158fec70f488",
   "metadata": {},
   "outputs": [],
   "source": [
    "#value as list trile , set alg alg varity k data store kr pa rahe hai\n",
    "d7={'number':[2,44,55,666,], 'assignment':(1,2,3,4,5),'launch date':{28,12,14}, 'class_timeing':{'web_dev': 8,'java system degine': 45 }}"
   ]
  },
  {
   "cell_type": "code",
   "execution_count": 37,
   "id": "8c07def0-6e16-4470-8482-162ba2854de4",
   "metadata": {},
   "outputs": [
    {
     "data": {
      "text/plain": [
       "{'number': [2, 44, 55, 666],\n",
       " 'assignment': (1, 2, 3, 4, 5),\n",
       " 'launch date': {12, 14, 28},\n",
       " 'class_timeing': {'web_dev': 8, 'java system degine': 45}}"
      ]
     },
     "execution_count": 37,
     "metadata": {},
     "output_type": "execute_result"
    }
   ],
   "source": [
    "d7"
   ]
  },
  {
   "cell_type": "code",
   "execution_count": 39,
   "id": "3da04a1b-9bcf-43a5-a000-c8180c1b28f0",
   "metadata": {},
   "outputs": [
    {
     "data": {
      "text/plain": [
       "{'web_dev': 8, 'java system degine': 45}"
      ]
     },
     "execution_count": 39,
     "metadata": {},
     "output_type": "execute_result"
    }
   ],
   "source": [
    "d7['class_timeing']"
   ]
  },
  {
   "cell_type": "code",
   "execution_count": 40,
   "id": "337e37a0-dc9f-47ab-b930-328fc2c6cd83",
   "metadata": {},
   "outputs": [
    {
     "data": {
      "text/plain": [
       "45"
      ]
     },
     "execution_count": 40,
     "metadata": {},
     "output_type": "execute_result"
    }
   ],
   "source": [
    "# data is 45 ko niklna hai\n",
    "d7['class_timeing']['java system degine']"
   ]
  },
  {
   "cell_type": "code",
   "execution_count": 41,
   "id": "cda77833-8aaf-45ca-b4b8-da9f6ce55c79",
   "metadata": {},
   "outputs": [],
   "source": [
    "# new key add ya create\n",
    "d7['mentor']=['sudhansu', 'krish', 'anurag']"
   ]
  },
  {
   "cell_type": "code",
   "execution_count": 42,
   "id": "29a51d09-dc83-4c63-8f9f-742b4d3cca2d",
   "metadata": {},
   "outputs": [
    {
     "data": {
      "text/plain": [
       "{'number': [2, 44, 55, 666],\n",
       " 'assignment': (1, 2, 3, 4, 5),\n",
       " 'launch date': {12, 14, 28},\n",
       " 'class_timeing': {'web_dev': 8, 'java system degine': 45},\n",
       " 'mentor': ['sudhansu', 'krish', 'anurag']}"
      ]
     },
     "execution_count": 42,
     "metadata": {},
     "output_type": "execute_result"
    }
   ],
   "source": [
    "d7"
   ]
  },
  {
   "cell_type": "code",
   "execution_count": 43,
   "id": "c37d7c0c-6520-47e5-b3d7-248d9c64ea0e",
   "metadata": {},
   "outputs": [],
   "source": [
    "# delet data\n",
    "del d7['number']"
   ]
  },
  {
   "cell_type": "code",
   "execution_count": 44,
   "id": "f0a665e1-67fa-426c-ae0f-662c8773a856",
   "metadata": {},
   "outputs": [
    {
     "data": {
      "text/plain": [
       "{'assignment': (1, 2, 3, 4, 5),\n",
       " 'launch date': {12, 14, 28},\n",
       " 'class_timeing': {'web_dev': 8, 'java system degine': 45},\n",
       " 'mentor': ['sudhansu', 'krish', 'anurag']}"
      ]
     },
     "execution_count": 44,
     "metadata": {},
     "output_type": "execute_result"
    }
   ],
   "source": [
    "d7"
   ]
  },
  {
   "cell_type": "code",
   "execution_count": 46,
   "id": "679c967b-29ac-427f-b406-f79d4344664e",
   "metadata": {},
   "outputs": [
    {
     "data": {
      "text/plain": [
       "dict_keys(['assignment', 'launch date', 'class_timeing', 'mentor'])"
      ]
     },
     "execution_count": 46,
     "metadata": {},
     "output_type": "execute_result"
    }
   ],
   "source": [
    "d7.keys()"
   ]
  },
  {
   "cell_type": "code",
   "execution_count": 48,
   "id": "6166b2a9-363f-4bbf-a4da-6b03917befd9",
   "metadata": {},
   "outputs": [
    {
     "data": {
      "text/plain": [
       "['assignment', 'launch date', 'class_timeing', 'mentor']"
      ]
     },
     "execution_count": 48,
     "metadata": {},
     "output_type": "execute_result"
    }
   ],
   "source": [
    "# data is proper in form of list\n",
    "list(d7.keys())"
   ]
  },
  {
   "cell_type": "code",
   "execution_count": 49,
   "id": "22b37f62-5e78-4d8c-a7d6-04ce05059614",
   "metadata": {},
   "outputs": [
    {
     "data": {
      "text/plain": [
       "dict_values([(1, 2, 3, 4, 5), {28, 12, 14}, {'web_dev': 8, 'java system degine': 45}, ['sudhansu', 'krish', 'anurag']])"
      ]
     },
     "execution_count": 49,
     "metadata": {},
     "output_type": "execute_result"
    }
   ],
   "source": [
    "d7.values()"
   ]
  },
  {
   "cell_type": "code",
   "execution_count": 50,
   "id": "1977c1ec-a3db-4a4f-8e97-d2d124040899",
   "metadata": {},
   "outputs": [
    {
     "data": {
      "text/plain": [
       "[(1, 2, 3, 4, 5),\n",
       " {12, 14, 28},\n",
       " {'web_dev': 8, 'java system degine': 45},\n",
       " ['sudhansu', 'krish', 'anurag']]"
      ]
     },
     "execution_count": 50,
     "metadata": {},
     "output_type": "execute_result"
    }
   ],
   "source": [
    "list(d7.values())"
   ]
  },
  {
   "cell_type": "code",
   "execution_count": 52,
   "id": "ef1a9559-148a-4633-ab49-fadc67225a08",
   "metadata": {},
   "outputs": [
    {
     "data": {
      "text/plain": [
       "dict_items([('company', 'pwskills'), ('course', ['web', 'data science', 'java'])])"
      ]
     },
     "execution_count": 52,
     "metadata": {},
     "output_type": "execute_result"
    }
   ],
   "source": [
    "# value and key in pair mai niklna hai\n",
    "d6.items()"
   ]
  },
  {
   "cell_type": "code",
   "execution_count": 53,
   "id": "782dc7de-1719-48aa-90df-f2d40f6cfdb1",
   "metadata": {},
   "outputs": [
    {
     "data": {
      "text/plain": [
       "[('company', 'pwskills'), ('course', ['web', 'data science', 'java'])]"
      ]
     },
     "execution_count": 53,
     "metadata": {},
     "output_type": "execute_result"
    }
   ],
   "source": [
    "# list mai data chaiye\n",
    "list(d6.items())"
   ]
  },
  {
   "cell_type": "code",
   "execution_count": 56,
   "id": "fee0355a-2476-45d7-ae89-80f69daa9a9a",
   "metadata": {},
   "outputs": [
    {
     "data": {
      "text/plain": [
       "['web', 'data science', 'java']"
      ]
     },
     "execution_count": 56,
     "metadata": {},
     "output_type": "execute_result"
    }
   ],
   "source": [
    "# pop is use to delet data\n",
    "d6.pop('course')"
   ]
  },
  {
   "cell_type": "code",
   "execution_count": 57,
   "id": "3128a119-28e4-4a6b-b2cc-419c6eea14b8",
   "metadata": {},
   "outputs": [
    {
     "data": {
      "text/plain": [
       "{'company': 'pwskills'}"
      ]
     },
     "execution_count": 57,
     "metadata": {},
     "output_type": "execute_result"
    }
   ],
   "source": [
    "d6"
   ]
  },
  {
   "cell_type": "code",
   "execution_count": 58,
   "id": "479dea9e-3a9f-4015-b911-81f7afe1ad1e",
   "metadata": {},
   "outputs": [
    {
     "data": {
      "text/plain": [
       "{'assignment': (1, 2, 3, 4, 5),\n",
       " 'launch date': {12, 14, 28},\n",
       " 'class_timeing': {'web_dev': 8, 'java system degine': 45},\n",
       " 'mentor': ['sudhansu', 'krish', 'anurag']}"
      ]
     },
     "execution_count": 58,
     "metadata": {},
     "output_type": "execute_result"
    }
   ],
   "source": [
    "d7"
   ]
  },
  {
   "cell_type": "code",
   "execution_count": 63,
   "id": "186eaa59-66be-497b-b487-16bce0fd6028",
   "metadata": {},
   "outputs": [
    {
     "name": "stdout",
     "output_type": "stream",
     "text": [
      "you will be a part of A3 batch\n"
     ]
    }
   ],
   "source": [
    "# decesion making statement or control statement if else condition (>= comparision operater hai)\n",
    "# false ke case m execute nhi krega>=80 only execute print ('you will be a part of A3 batch')\n",
    "marks = 10\n",
    "if marks >= 80:\n",
    "    print('you will be a part of A0 batch')\n",
    "elif marks >= 60 and marks< 80:\n",
    "    print('you will be a part of A1 batch')\n",
    "elif marks >= 40 and marks < 60:\n",
    "    print ('you will be a part of A2 batch')\n",
    "else : \n",
    "    print ('you will be a part of A3 batch')\n",
    "    "
   ]
  },
  {
   "cell_type": "code",
   "execution_count": null,
   "id": "482b369c-d032-4753-b68a-1df7e6ec138e",
   "metadata": {},
   "outputs": [],
   "source": [
    "10>=80"
   ]
  },
  {
   "cell_type": "code",
   "execution_count": null,
   "id": "a4e8081a-7d57-4ed1-8071-67da124680f4",
   "metadata": {},
   "outputs": [],
   "source": [
    "marks = input ('enter yours marks')\n",
    "if marks >= 80:\n",
    "    print('you will be a part of A0 batch')\n",
    "elif marks >= 60 and marks< 80:\n",
    "    print('you will be a part of A1 batch')\n",
    "elif marks >= 40 and marks < 60:\n",
    "    print ('you will be a part of A2 batch')\n",
    "else : \n",
    "    print ('you will be a part of A3 batch')\n",
    "    "
   ]
  },
  {
   "cell_type": "code",
   "execution_count": null,
   "id": "5a8076a8-ee3d-4cf4-92b5-fa457b92c12c",
   "metadata": {},
   "outputs": [],
   "source": [
    "marks = input ('enter yours marks')"
   ]
  },
  {
   "cell_type": "code",
   "execution_count": null,
   "id": "367ae5b8-0950-4ea9-ab18-d4a9e1ce4afd",
   "metadata": {},
   "outputs": [],
   "source": []
  }
 ],
 "metadata": {
  "kernelspec": {
   "display_name": "Python 3 (ipykernel)",
   "language": "python",
   "name": "python3"
  },
  "language_info": {
   "codemirror_mode": {
    "name": "ipython",
    "version": 3
   },
   "file_extension": ".py",
   "mimetype": "text/x-python",
   "name": "python",
   "nbconvert_exporter": "python",
   "pygments_lexer": "ipython3",
   "version": "3.10.8"
  }
 },
 "nbformat": 4,
 "nbformat_minor": 5
}
