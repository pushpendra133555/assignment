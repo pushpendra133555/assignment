{
 "cells": [
  {
   "cell_type": "code",
   "execution_count": 2,
   "id": "65773db6-c973-4944-b3b6-ebcbc7f2eee1",
   "metadata": {
    "collapsed": true,
    "jupyter": {
     "outputs_hidden": true
    },
    "tags": []
   },
   "outputs": [
    {
     "data": {
      "text/plain": [
       "1"
      ]
     },
     "execution_count": 2,
     "metadata": {},
     "output_type": "execute_result"
    }
   ],
   "source": [
    "# This is multiplication\n",
    "1 * 1"
   ]
  },
  {
   "cell_type": "code",
   "execution_count": 3,
   "id": "99ad4bbe-d5f6-41fa-805c-84af2d51e4ed",
   "metadata": {},
   "outputs": [
    {
     "data": {
      "text/plain": [
       "2"
      ]
     },
     "execution_count": 3,
     "metadata": {},
     "output_type": "execute_result"
    }
   ],
   "source": [
    "1*2"
   ]
  },
  {
   "cell_type": "code",
   "execution_count": 4,
   "id": "22872063-588e-4fe0-89dd-a55bdaa6f144",
   "metadata": {},
   "outputs": [
    {
     "data": {
      "text/plain": [
       "10"
      ]
     },
     "execution_count": 4,
     "metadata": {},
     "output_type": "execute_result"
    }
   ],
   "source": [
    "2*5"
   ]
  },
  {
   "cell_type": "code",
   "execution_count": 5,
   "id": "399ad662-13cd-4af5-afea-45d77dcecc5f",
   "metadata": {},
   "outputs": [
    {
     "data": {
      "text/plain": [
       "5"
      ]
     },
     "execution_count": 5,
     "metadata": {},
     "output_type": "execute_result"
    }
   ],
   "source": [
    "2+3\n"
   ]
  },
  {
   "cell_type": "code",
   "execution_count": 6,
   "id": "28c2f6b0-d087-45a9-9234-4ba78fc73d3e",
   "metadata": {},
   "outputs": [
    {
     "data": {
      "text/plain": [
       "5"
      ]
     },
     "execution_count": 6,
     "metadata": {},
     "output_type": "execute_result"
    }
   ],
   "source": [
    "2 + 3"
   ]
  },
  {
   "cell_type": "code",
   "execution_count": 7,
   "id": "b19dfdc8-bc33-42ec-a508-db37e9e18bfb",
   "metadata": {},
   "outputs": [
    {
     "data": {
      "text/plain": [
       "7"
      ]
     },
     "execution_count": 7,
     "metadata": {},
     "output_type": "execute_result"
    }
   ],
   "source": [
    "1+6"
   ]
  },
  {
   "cell_type": "code",
   "execution_count": 8,
   "id": "755a8d19-d877-4e0f-bd41-858705f21891",
   "metadata": {},
   "outputs": [
    {
     "data": {
      "text/plain": [
       "6"
      ]
     },
     "execution_count": 8,
     "metadata": {},
     "output_type": "execute_result"
    }
   ],
   "source": [
    "1+5"
   ]
  },
  {
   "cell_type": "code",
   "execution_count": 9,
   "id": "1ce7e5f8-ffc3-4783-9c1b-de9d3a2ef141",
   "metadata": {},
   "outputs": [
    {
     "data": {
      "text/plain": [
       "1"
      ]
     },
     "execution_count": 9,
     "metadata": {},
     "output_type": "execute_result"
    }
   ],
   "source": [
    "3-2"
   ]
  },
  {
   "cell_type": "code",
   "execution_count": 10,
   "id": "f79d6b01-bdc2-44fa-902c-4e51cf1e29eb",
   "metadata": {},
   "outputs": [
    {
     "data": {
      "text/plain": [
       "4"
      ]
     },
     "execution_count": 10,
     "metadata": {},
     "output_type": "execute_result"
    }
   ],
   "source": [
    "2**2"
   ]
  },
  {
   "cell_type": "code",
   "execution_count": 11,
   "id": "3478b58b-bfa6-424d-8f56-63c363ae9e3a",
   "metadata": {},
   "outputs": [
    {
     "data": {
      "text/plain": [
       "10"
      ]
     },
     "execution_count": 11,
     "metadata": {},
     "output_type": "execute_result"
    }
   ],
   "source": [
    "10\n"
   ]
  },
  {
   "cell_type": "code",
   "execution_count": 12,
   "id": "0f450d62-0fe0-4436-aea3-7a90cced496e",
   "metadata": {},
   "outputs": [],
   "source": [
    "# a is a integer\n",
    "#it hold value\n",
    "a=10\n"
   ]
  },
  {
   "cell_type": "code",
   "execution_count": 13,
   "id": "2cf1fce7-70ca-4737-a79d-db4229e187d9",
   "metadata": {},
   "outputs": [
    {
     "name": "stdout",
     "output_type": "stream",
     "text": [
      "10\n"
     ]
    }
   ],
   "source": [
    "print(10)"
   ]
  },
  {
   "cell_type": "code",
   "execution_count": 14,
   "id": "043da3e4-5be4-4c04-ad5d-b3f7a4914cbd",
   "metadata": {},
   "outputs": [
    {
     "name": "stdout",
     "output_type": "stream",
     "text": [
      "10\n"
     ]
    }
   ],
   "source": [
    "print(a)\n"
   ]
  },
  {
   "cell_type": "code",
   "execution_count": 18,
   "id": "1d07046a-3c1d-42d8-b2e3-35b91f40eb51",
   "metadata": {},
   "outputs": [],
   "source": [
    "push=20"
   ]
  },
  {
   "cell_type": "code",
   "execution_count": 19,
   "id": "be26063d-efe3-466c-bdde-f70a59fae968",
   "metadata": {},
   "outputs": [
    {
     "data": {
      "text/plain": [
       "20"
      ]
     },
     "execution_count": 19,
     "metadata": {},
     "output_type": "execute_result"
    }
   ],
   "source": [
    "push"
   ]
  },
  {
   "cell_type": "code",
   "execution_count": 20,
   "id": "f9e0dd18-a2d5-4820-9264-5aa0c63e0319",
   "metadata": {},
   "outputs": [
    {
     "data": {
      "text/plain": [
       "30"
      ]
     },
     "execution_count": 20,
     "metadata": {},
     "output_type": "execute_result"
    }
   ],
   "source": [
    "a+push"
   ]
  },
  {
   "cell_type": "code",
   "execution_count": 21,
   "id": "f47451a0-e3ee-4318-b6d8-01b0335fe118",
   "metadata": {},
   "outputs": [],
   "source": [
    "c=20\n"
   ]
  },
  {
   "cell_type": "code",
   "execution_count": 22,
   "id": "b7fdb509-9e95-4bae-8f2d-1f20788b54e0",
   "metadata": {},
   "outputs": [
    {
     "data": {
      "text/plain": [
       "50"
      ]
     },
     "execution_count": 22,
     "metadata": {},
     "output_type": "execute_result"
    }
   ],
   "source": [
    "a+c+push"
   ]
  },
  {
   "cell_type": "code",
   "execution_count": 23,
   "id": "61aba846-f606-46b7-a72f-b0634289f894",
   "metadata": {},
   "outputs": [
    {
     "data": {
      "text/plain": [
       "int"
      ]
     },
     "execution_count": 23,
     "metadata": {},
     "output_type": "execute_result"
    }
   ],
   "source": [
    "#type function is denoted which is type of function such as a boolen , flot,integer,string\n",
    "type (a)"
   ]
  },
  {
   "cell_type": "code",
   "execution_count": 24,
   "id": "b3701a8d-e66a-437b-8d34-e66b2d2a5887",
   "metadata": {},
   "outputs": [
    {
     "data": {
      "text/plain": [
       "int"
      ]
     },
     "execution_count": 24,
     "metadata": {},
     "output_type": "execute_result"
    }
   ],
   "source": [
    "type(c)"
   ]
  },
  {
   "cell_type": "code",
   "execution_count": 25,
   "id": "7d601a4d-4ce7-496c-80b4-01b8513e1d0d",
   "metadata": {},
   "outputs": [
    {
     "data": {
      "text/plain": [
       "int"
      ]
     },
     "execution_count": 25,
     "metadata": {},
     "output_type": "execute_result"
    }
   ],
   "source": [
    "type(push)"
   ]
  },
  {
   "cell_type": "code",
   "execution_count": 26,
   "id": "9d4bf5e4-aae3-4e4f-8460-33c8236d5ba2",
   "metadata": {},
   "outputs": [],
   "source": [
    "#decimal number is a flot number\n",
    "b=2.5"
   ]
  },
  {
   "cell_type": "code",
   "execution_count": 27,
   "id": "5629b8d6-60eb-464f-a1a1-f0605df61b31",
   "metadata": {},
   "outputs": [],
   "source": [
    "c=10\n"
   ]
  },
  {
   "cell_type": "code",
   "execution_count": 29,
   "id": "8192e0dd-3aea-4e3c-af7c-ba31cc0c9f57",
   "metadata": {},
   "outputs": [
    {
     "data": {
      "text/plain": [
       "20"
      ]
     },
     "execution_count": 29,
     "metadata": {},
     "output_type": "execute_result"
    }
   ],
   "source": [
    "a+c\n",
    "\n"
   ]
  },
  {
   "cell_type": "code",
   "execution_count": 30,
   "id": "75db269e-015f-498a-b367-e57d96bfb835",
   "metadata": {},
   "outputs": [
    {
     "data": {
      "text/plain": [
       "12.5"
      ]
     },
     "execution_count": 30,
     "metadata": {},
     "output_type": "execute_result"
    }
   ],
   "source": [
    "b+c\n"
   ]
  },
  {
   "cell_type": "code",
   "execution_count": 31,
   "id": "1228b06f-40e1-4649-ac42-baa027bd164c",
   "metadata": {},
   "outputs": [
    {
     "data": {
      "text/plain": [
       "float"
      ]
     },
     "execution_count": 31,
     "metadata": {},
     "output_type": "execute_result"
    }
   ],
   "source": [
    "type (b)"
   ]
  },
  {
   "cell_type": "code",
   "execution_count": 32,
   "id": "2687f7b3-c241-4fc5-abca-7c43984478b1",
   "metadata": {},
   "outputs": [],
   "source": [
    "d=2.4\n"
   ]
  },
  {
   "cell_type": "code",
   "execution_count": 33,
   "id": "dc990c6f-2789-45d2-ae04-da27c88e61d3",
   "metadata": {},
   "outputs": [
    {
     "data": {
      "text/plain": [
       "4.9"
      ]
     },
     "execution_count": 33,
     "metadata": {},
     "output_type": "execute_result"
    }
   ],
   "source": [
    "b+d\n"
   ]
  },
  {
   "cell_type": "code",
   "execution_count": 37,
   "id": "68a3e0de-8786-4f52-9f82-25feb52da81a",
   "metadata": {},
   "outputs": [],
   "source": [
    "# this is a string called group of words\n",
    "e=\"pushpendra\"\n"
   ]
  },
  {
   "cell_type": "code",
   "execution_count": 38,
   "id": "4ceef66f-0c99-47a6-85e7-295e2f36054b",
   "metadata": {},
   "outputs": [
    {
     "data": {
      "text/plain": [
       "'pushpendra'"
      ]
     },
     "execution_count": 38,
     "metadata": {},
     "output_type": "execute_result"
    }
   ],
   "source": [
    "e"
   ]
  },
  {
   "cell_type": "code",
   "execution_count": 39,
   "id": "e25f9859-ebaf-4c5f-8276-535376ab7de7",
   "metadata": {},
   "outputs": [
    {
     "data": {
      "text/plain": [
       "str"
      ]
     },
     "execution_count": 39,
     "metadata": {},
     "output_type": "execute_result"
    }
   ],
   "source": [
    "type(e)"
   ]
  },
  {
   "cell_type": "code",
   "execution_count": 41,
   "id": "f7b84a0e-eaf4-4a43-ab6b-6849a97e062c",
   "metadata": {},
   "outputs": [],
   "source": [
    "#this is a boolen function\n",
    "f=True"
   ]
  },
  {
   "cell_type": "code",
   "execution_count": 42,
   "id": "e9510e76-c65d-4d97-a0dd-548e5532085e",
   "metadata": {},
   "outputs": [
    {
     "data": {
      "text/plain": [
       "True"
      ]
     },
     "execution_count": 42,
     "metadata": {},
     "output_type": "execute_result"
    }
   ],
   "source": [
    "f\n"
   ]
  },
  {
   "cell_type": "code",
   "execution_count": 43,
   "id": "6678fcbd-48c0-4b50-aa8c-4a56b9d675b2",
   "metadata": {},
   "outputs": [],
   "source": [
    "g=False"
   ]
  },
  {
   "cell_type": "code",
   "execution_count": 44,
   "id": "ae0fb160-73e2-4550-bf77-a6964d545301",
   "metadata": {},
   "outputs": [
    {
     "data": {
      "text/plain": [
       "False"
      ]
     },
     "execution_count": 44,
     "metadata": {},
     "output_type": "execute_result"
    }
   ],
   "source": [
    "g\n"
   ]
  },
  {
   "cell_type": "code",
   "execution_count": 45,
   "id": "5c531aca-2e14-4be0-bae8-f598bfa0cf7b",
   "metadata": {},
   "outputs": [
    {
     "data": {
      "text/plain": [
       "0"
      ]
     },
     "execution_count": 45,
     "metadata": {},
     "output_type": "execute_result"
    }
   ],
   "source": [
    "f*g"
   ]
  },
  {
   "cell_type": "code",
   "execution_count": 46,
   "id": "004ddaad-d958-4b7c-b039-a8aaa895d67d",
   "metadata": {},
   "outputs": [
    {
     "data": {
      "text/plain": [
       "1"
      ]
     },
     "execution_count": 46,
     "metadata": {},
     "output_type": "execute_result"
    }
   ],
   "source": [
    "f+g"
   ]
  },
  {
   "cell_type": "code",
   "execution_count": 48,
   "id": "bf60d508-145a-4b59-86a8-8711815e8235",
   "metadata": {},
   "outputs": [
    {
     "data": {
      "text/plain": [
       "1"
      ]
     },
     "execution_count": 48,
     "metadata": {},
     "output_type": "execute_result"
    }
   ],
   "source": [
    "f-g"
   ]
  },
  {
   "cell_type": "code",
   "execution_count": 49,
   "id": "1fc9c5c7-332c-4479-a5ea-9abfa2a8c639",
   "metadata": {},
   "outputs": [],
   "source": [
    "v=5+8J\n"
   ]
  },
  {
   "cell_type": "code",
   "execution_count": 50,
   "id": "21e7566f-e5d5-4538-a9b9-eafcfa8d4580",
   "metadata": {},
   "outputs": [
    {
     "data": {
      "text/plain": [
       "(5+8j)"
      ]
     },
     "execution_count": 50,
     "metadata": {},
     "output_type": "execute_result"
    }
   ],
   "source": [
    "v"
   ]
  },
  {
   "cell_type": "code",
   "execution_count": 51,
   "id": "ece3b4ad-d9ac-4492-b532-f37a4d742b66",
   "metadata": {},
   "outputs": [
    {
     "data": {
      "text/plain": [
       "complex"
      ]
     },
     "execution_count": 51,
     "metadata": {},
     "output_type": "execute_result"
    }
   ],
   "source": [
    "type(v)"
   ]
  },
  {
   "cell_type": "code",
   "execution_count": 52,
   "id": "5d62d5a2-21ae-4c37-990f-6196fe93414b",
   "metadata": {},
   "outputs": [
    {
     "data": {
      "text/plain": [
       "5.0"
      ]
     },
     "execution_count": 52,
     "metadata": {},
     "output_type": "execute_result"
    }
   ],
   "source": [
    "v.real"
   ]
  },
  {
   "cell_type": "code",
   "execution_count": 57,
   "id": "7dc1949d-b1e1-40be-af80-a84c6a92dd3c",
   "metadata": {},
   "outputs": [
    {
     "data": {
      "text/plain": [
       "5.0"
      ]
     },
     "execution_count": 57,
     "metadata": {},
     "output_type": "execute_result"
    }
   ],
   "source": [
    "v.real\n"
   ]
  },
  {
   "cell_type": "code",
   "execution_count": 61,
   "id": "2d8a7798-c6fa-4072-8f51-56a7bfa79913",
   "metadata": {},
   "outputs": [
    {
     "data": {
      "text/plain": [
       "5.0"
      ]
     },
     "execution_count": 61,
     "metadata": {},
     "output_type": "execute_result"
    }
   ],
   "source": [
    "v.real"
   ]
  },
  {
   "cell_type": "code",
   "execution_count": 68,
   "id": "2d2de922-0daf-49f7-a74f-79cee43ed054",
   "metadata": {},
   "outputs": [],
   "source": [
    "s=6+7j"
   ]
  },
  {
   "cell_type": "code",
   "execution_count": 69,
   "id": "e2e5ea9c-f64a-4543-ac7a-f6f0c39ea2b2",
   "metadata": {},
   "outputs": [
    {
     "name": "stdout",
     "output_type": "stream",
     "text": [
      "(6+7j)\n"
     ]
    }
   ],
   "source": [
    "print(s)"
   ]
  },
  {
   "cell_type": "code",
   "execution_count": 70,
   "id": "65258dd8-a859-4404-96f9-e556267171e6",
   "metadata": {},
   "outputs": [
    {
     "data": {
      "text/plain": [
       "6.0"
      ]
     },
     "execution_count": 70,
     "metadata": {},
     "output_type": "execute_result"
    }
   ],
   "source": [
    "s.real"
   ]
  },
  {
   "cell_type": "code",
   "execution_count": 75,
   "id": "8d9994b0-bd95-4bba-a97a-df08d945603f",
   "metadata": {},
   "outputs": [
    {
     "data": {
      "text/plain": [
       "7.0"
      ]
     },
     "execution_count": 75,
     "metadata": {},
     "output_type": "execute_result"
    }
   ],
   "source": [
    "s. imag\n"
   ]
  },
  {
   "cell_type": "code",
   "execution_count": 76,
   "id": "9377e45a-d694-4c9a-b27e-2bb736975a5d",
   "metadata": {},
   "outputs": [],
   "source": [
    "k='sitaram'"
   ]
  },
  {
   "cell_type": "code",
   "execution_count": 77,
   "id": "37c8c5d1-4287-4512-b42a-0d93e285c2ce",
   "metadata": {},
   "outputs": [
    {
     "name": "stdout",
     "output_type": "stream",
     "text": [
      "sitaram\n"
     ]
    }
   ],
   "source": [
    "print(k)"
   ]
  },
  {
   "cell_type": "code",
   "execution_count": 78,
   "id": "a13e6800-18e7-4980-b12a-9b0a3e2a426d",
   "metadata": {},
   "outputs": [
    {
     "data": {
      "text/plain": [
       "str"
      ]
     },
     "execution_count": 78,
     "metadata": {},
     "output_type": "execute_result"
    }
   ],
   "source": [
    "type(k)"
   ]
  },
  {
   "cell_type": "code",
   "execution_count": 79,
   "id": "eaa0dc08-1760-43d5-b440-a3fda0df0901",
   "metadata": {},
   "outputs": [
    {
     "data": {
      "text/plain": [
       "'s'"
      ]
     },
     "execution_count": 79,
     "metadata": {},
     "output_type": "execute_result"
    }
   ],
   "source": [
    "k[0]"
   ]
  },
  {
   "cell_type": "code",
   "execution_count": 81,
   "id": "dda790da-8ff8-4823-bf1b-af3a1648ba03",
   "metadata": {},
   "outputs": [
    {
     "data": {
      "text/plain": [
       "'a'"
      ]
     },
     "execution_count": 81,
     "metadata": {},
     "output_type": "execute_result"
    }
   ],
   "source": [
    "k[3]"
   ]
  },
  {
   "cell_type": "code",
   "execution_count": 82,
   "id": "e3f160a4-c144-4652-a611-560da5481f93",
   "metadata": {},
   "outputs": [
    {
     "data": {
      "text/plain": [
       "'a'"
      ]
     },
     "execution_count": 82,
     "metadata": {},
     "output_type": "execute_result"
    }
   ],
   "source": [
    "k[5]"
   ]
  },
  {
   "cell_type": "code",
   "execution_count": 83,
   "id": "3a606997-f499-48e7-877a-ed5b6961f14a",
   "metadata": {},
   "outputs": [
    {
     "data": {
      "text/plain": [
       "'s'"
      ]
     },
     "execution_count": 83,
     "metadata": {},
     "output_type": "execute_result"
    }
   ],
   "source": [
    "k[-7]"
   ]
  },
  {
   "cell_type": "code",
   "execution_count": 85,
   "id": "90af36c3-182e-467b-b6ed-26befce2b099",
   "metadata": {},
   "outputs": [
    {
     "data": {
      "text/plain": [
       "'i'"
      ]
     },
     "execution_count": 85,
     "metadata": {},
     "output_type": "execute_result"
    }
   ],
   "source": [
    "k[-6]"
   ]
  },
  {
   "cell_type": "code",
   "execution_count": 86,
   "id": "a58de99f-c6f4-470f-8344-9716c19d86db",
   "metadata": {},
   "outputs": [
    {
     "data": {
      "text/plain": [
       "'sit'"
      ]
     },
     "execution_count": 86,
     "metadata": {},
     "output_type": "execute_result"
    }
   ],
   "source": [
    "k[0:3]"
   ]
  },
  {
   "cell_type": "code",
   "execution_count": 87,
   "id": "83585c82-9d69-4294-90b4-e418dbe0ce9d",
   "metadata": {},
   "outputs": [
    {
     "data": {
      "text/plain": [
       "'sitaram'"
      ]
     },
     "execution_count": 87,
     "metadata": {},
     "output_type": "execute_result"
    }
   ],
   "source": [
    "k[0:7]"
   ]
  },
  {
   "cell_type": "code",
   "execution_count": 88,
   "id": "a46e98d0-0c2c-47a6-8133-d958aebdea14",
   "metadata": {},
   "outputs": [
    {
     "data": {
      "text/plain": [
       "'sitaram'"
      ]
     },
     "execution_count": 88,
     "metadata": {},
     "output_type": "execute_result"
    }
   ],
   "source": [
    "k[0:8]"
   ]
  },
  {
   "cell_type": "code",
   "execution_count": 89,
   "id": "fe1f2464-fcdc-4849-b5ed-f34300fe7f5c",
   "metadata": {},
   "outputs": [
    {
     "data": {
      "text/plain": [
       "'sitaram'"
      ]
     },
     "execution_count": 89,
     "metadata": {},
     "output_type": "execute_result"
    }
   ],
   "source": [
    "k[0:67]"
   ]
  },
  {
   "cell_type": "code",
   "execution_count": 90,
   "id": "81c20e82-259f-48fc-9ec8-c822ccd01480",
   "metadata": {},
   "outputs": [
    {
     "data": {
      "text/plain": [
       "'strm'"
      ]
     },
     "execution_count": 90,
     "metadata": {},
     "output_type": "execute_result"
    }
   ],
   "source": [
    "k[0:7:2]"
   ]
  },
  {
   "cell_type": "code",
   "execution_count": 91,
   "id": "540984e2-7063-44ef-acf8-f34a798b4a4f",
   "metadata": {},
   "outputs": [
    {
     "data": {
      "text/plain": [
       "'sitaram'"
      ]
     },
     "execution_count": 91,
     "metadata": {},
     "output_type": "execute_result"
    }
   ],
   "source": [
    "# this is a forward jump\n",
    "k[0:7:1]"
   ]
  },
  {
   "cell_type": "code",
   "execution_count": 92,
   "id": "b40809ca-9e4c-4878-9d4f-b1bb665cc02a",
   "metadata": {},
   "outputs": [
    {
     "data": {
      "text/plain": [
       "'sam'"
      ]
     },
     "execution_count": 92,
     "metadata": {},
     "output_type": "execute_result"
    }
   ],
   "source": [
    "k[0:7:3]"
   ]
  },
  {
   "cell_type": "code",
   "execution_count": 93,
   "id": "fdee37b1-db9a-4c7c-b3ae-5ea7fc1a3437",
   "metadata": {},
   "outputs": [
    {
     "data": {
      "text/plain": [
       "'sr'"
      ]
     },
     "execution_count": 93,
     "metadata": {},
     "output_type": "execute_result"
    }
   ],
   "source": [
    "k[0:7:4]"
   ]
  },
  {
   "cell_type": "code",
   "execution_count": 95,
   "id": "aca8e12b-a125-481f-9222-0d63e134ab87",
   "metadata": {},
   "outputs": [
    {
     "data": {
      "text/plain": [
       "'sitaram'"
      ]
     },
     "execution_count": 95,
     "metadata": {},
     "output_type": "execute_result"
    }
   ],
   "source": [
    "k[::1]"
   ]
  },
  {
   "cell_type": "code",
   "execution_count": 96,
   "id": "6bc0a5c7-f8b2-422e-89a0-c6b2615baf0d",
   "metadata": {},
   "outputs": [
    {
     "data": {
      "text/plain": [
       "'strm'"
      ]
     },
     "execution_count": 96,
     "metadata": {},
     "output_type": "execute_result"
    }
   ],
   "source": [
    "k[::2]"
   ]
  },
  {
   "cell_type": "code",
   "execution_count": 97,
   "id": "751418dd-37d3-4052-bc05-4e168ecec874",
   "metadata": {},
   "outputs": [
    {
     "data": {
      "text/plain": [
       "'sam'"
      ]
     },
     "execution_count": 97,
     "metadata": {},
     "output_type": "execute_result"
    }
   ],
   "source": [
    "k[::3]"
   ]
  },
  {
   "cell_type": "code",
   "execution_count": 98,
   "id": "530a4330-04dd-4f9a-9cc4-8a9e96d2ba00",
   "metadata": {},
   "outputs": [
    {
     "data": {
      "text/plain": [
       "'trm'"
      ]
     },
     "execution_count": 98,
     "metadata": {},
     "output_type": "execute_result"
    }
   ],
   "source": [
    "k[2::2]"
   ]
  },
  {
   "cell_type": "code",
   "execution_count": 100,
   "id": "d4dc22c0-1e56-4630-be1d-c5806ec97cab",
   "metadata": {},
   "outputs": [
    {
     "data": {
      "text/plain": [
       "'taram'"
      ]
     },
     "execution_count": 100,
     "metadata": {},
     "output_type": "execute_result"
    }
   ],
   "source": [
    "k[2::1]"
   ]
  },
  {
   "cell_type": "code",
   "execution_count": 101,
   "id": "117d6451-a716-4ecb-8990-466d4d416a15",
   "metadata": {},
   "outputs": [
    {
     "data": {
      "text/plain": [
       "'maratis'"
      ]
     },
     "execution_count": 101,
     "metadata": {},
     "output_type": "execute_result"
    }
   ],
   "source": [
    "k[::-1]"
   ]
  },
  {
   "cell_type": "code",
   "execution_count": 102,
   "id": "48ffef57-5516-413d-ad9a-3e6463c1d984",
   "metadata": {},
   "outputs": [
    {
     "data": {
      "text/plain": [
       "'r'"
      ]
     },
     "execution_count": 102,
     "metadata": {},
     "output_type": "execute_result"
    }
   ],
   "source": [
    "k[-3]"
   ]
  },
  {
   "cell_type": "code",
   "execution_count": 103,
   "id": "c46e983d-be6d-412d-8c20-8372a78df165",
   "metadata": {},
   "outputs": [
    {
     "data": {
      "text/plain": [
       "'mrts'"
      ]
     },
     "execution_count": 103,
     "metadata": {},
     "output_type": "execute_result"
    }
   ],
   "source": [
    "k[::-2]"
   ]
  },
  {
   "cell_type": "code",
   "execution_count": 104,
   "id": "2bc68103-36e5-4882-adbd-41b4d145ba0a",
   "metadata": {},
   "outputs": [
    {
     "data": {
      "text/plain": [
       "'mas'"
      ]
     },
     "execution_count": 104,
     "metadata": {},
     "output_type": "execute_result"
    }
   ],
   "source": [
    "k[::-3]"
   ]
  },
  {
   "cell_type": "code",
   "execution_count": 108,
   "id": "6ec14ef0-5078-4ebb-b019-568edc4d9268",
   "metadata": {},
   "outputs": [
    {
     "data": {
      "text/plain": [
       "'marati'"
      ]
     },
     "execution_count": 108,
     "metadata": {},
     "output_type": "execute_result"
    }
   ],
   "source": [
    "k[7:0:-1]"
   ]
  },
  {
   "cell_type": "code",
   "execution_count": 111,
   "id": "5cd7874c-fecc-4cfa-ae70-7bab62c390a0",
   "metadata": {},
   "outputs": [
    {
     "data": {
      "text/plain": [
       "'sitaram'"
      ]
     },
     "execution_count": 111,
     "metadata": {},
     "output_type": "execute_result"
    }
   ],
   "source": [
    "k[:90:]"
   ]
  },
  {
   "cell_type": "code",
   "execution_count": 112,
   "id": "59ea61d2-71bf-42f0-9ca9-be2836df2e42",
   "metadata": {},
   "outputs": [
    {
     "data": {
      "text/plain": [
       "''"
      ]
     },
     "execution_count": 112,
     "metadata": {},
     "output_type": "execute_result"
    }
   ],
   "source": [
    "#this is a reverse jump\n",
    "k[90:-1]"
   ]
  },
  {
   "cell_type": "code",
   "execution_count": 113,
   "id": "07b00835-35f5-46fe-8c72-f97ccad6a5a9",
   "metadata": {},
   "outputs": [
    {
     "data": {
      "text/plain": [
       "''"
      ]
     },
     "execution_count": 113,
     "metadata": {},
     "output_type": "execute_result"
    }
   ],
   "source": [
    "k[:90:-1]"
   ]
  },
  {
   "cell_type": "code",
   "execution_count": 114,
   "id": "df588f84-6f36-41dd-8855-f5f4b58882e0",
   "metadata": {},
   "outputs": [
    {
     "data": {
      "text/plain": [
       "''"
      ]
     },
     "execution_count": 114,
     "metadata": {},
     "output_type": "execute_result"
    }
   ],
   "source": [
    "k[7:-1]"
   ]
  },
  {
   "cell_type": "code",
   "execution_count": 115,
   "id": "de0bc4f2-49b1-4741-a8b7-6879f3ab722d",
   "metadata": {},
   "outputs": [
    {
     "data": {
      "text/plain": [
       "''"
      ]
     },
     "execution_count": 115,
     "metadata": {},
     "output_type": "execute_result"
    }
   ],
   "source": [
    "k[:7:-1]"
   ]
  },
  {
   "cell_type": "code",
   "execution_count": 116,
   "id": "3c66e338-2378-49c0-b415-055d67329fed",
   "metadata": {},
   "outputs": [
    {
     "data": {
      "text/plain": [
       "'sitara'"
      ]
     },
     "execution_count": 116,
     "metadata": {},
     "output_type": "execute_result"
    }
   ],
   "source": [
    "k[-7:-1]"
   ]
  },
  {
   "cell_type": "code",
   "execution_count": 117,
   "id": "6052ec25-add2-468d-a628-603055069991",
   "metadata": {},
   "outputs": [
    {
     "data": {
      "text/plain": [
       "'sitar'"
      ]
     },
     "execution_count": 117,
     "metadata": {},
     "output_type": "execute_result"
    }
   ],
   "source": [
    "k[-7:-2]"
   ]
  },
  {
   "cell_type": "code",
   "execution_count": 118,
   "id": "6d43bf76-7d96-4d7c-8470-8783491028e3",
   "metadata": {},
   "outputs": [],
   "source": [
    "n='this is a laungauge programing'\n"
   ]
  },
  {
   "cell_type": "code",
   "execution_count": 119,
   "id": "d46e74f1-84e4-42c9-a9d3-fda7c1fdb6d4",
   "metadata": {},
   "outputs": [
    {
     "data": {
      "text/plain": [
       "30"
      ]
     },
     "execution_count": 119,
     "metadata": {},
     "output_type": "execute_result"
    }
   ],
   "source": [
    "len(n)"
   ]
  },
  {
   "cell_type": "code",
   "execution_count": 121,
   "id": "1fae8e75-a9c1-446c-9ff5-7132cebfb8bc",
   "metadata": {},
   "outputs": [
    {
     "data": {
      "text/plain": [
       "2"
      ]
     },
     "execution_count": 121,
     "metadata": {},
     "output_type": "execute_result"
    }
   ],
   "source": [
    "n.find('is')"
   ]
  },
  {
   "cell_type": "code",
   "execution_count": 122,
   "id": "d5ad414c-b66a-4886-a2e8-f98f3342c837",
   "metadata": {},
   "outputs": [
    {
     "data": {
      "text/plain": [
       "8"
      ]
     },
     "execution_count": 122,
     "metadata": {},
     "output_type": "execute_result"
    }
   ],
   "source": [
    "n.find('a')"
   ]
  },
  {
   "cell_type": "code",
   "execution_count": 123,
   "id": "b1bf534f-f1dc-499c-b7e3-80c886c7e9a6",
   "metadata": {},
   "outputs": [
    {
     "data": {
      "text/plain": [
       "20"
      ]
     },
     "execution_count": 123,
     "metadata": {},
     "output_type": "execute_result"
    }
   ],
   "source": [
    "n.find('programing')"
   ]
  },
  {
   "cell_type": "code",
   "execution_count": 124,
   "id": "3044939c-7f76-4e29-bb81-bcde931458c1",
   "metadata": {},
   "outputs": [
    {
     "data": {
      "text/plain": [
       "4"
      ]
     },
     "execution_count": 124,
     "metadata": {},
     "output_type": "execute_result"
    }
   ],
   "source": [
    "n. count('a')"
   ]
  },
  {
   "cell_type": "code",
   "execution_count": 125,
   "id": "63a2a057-f5db-48ac-a61a-37986d64d6e5",
   "metadata": {},
   "outputs": [
    {
     "data": {
      "text/plain": [
       "1"
      ]
     },
     "execution_count": 125,
     "metadata": {},
     "output_type": "execute_result"
    }
   ],
   "source": [
    "n.count('p')"
   ]
  },
  {
   "cell_type": "code",
   "execution_count": 126,
   "id": "3efc842b-5256-4dba-b1d3-d123bebf5171",
   "metadata": {},
   "outputs": [
    {
     "data": {
      "text/plain": [
       "'THIS IS A LAUNGAUGE PROGRAMING'"
      ]
     },
     "execution_count": 126,
     "metadata": {},
     "output_type": "execute_result"
    }
   ],
   "source": [
    "n.upper()"
   ]
  },
  {
   "cell_type": "code",
   "execution_count": 127,
   "id": "f112b41b-f091-4323-a909-dc1751ead978",
   "metadata": {},
   "outputs": [
    {
     "data": {
      "text/plain": [
       "'this is a laungauge programing'"
      ]
     },
     "execution_count": 127,
     "metadata": {},
     "output_type": "execute_result"
    }
   ],
   "source": [
    "n.lower()"
   ]
  },
  {
   "cell_type": "code",
   "execution_count": 133,
   "id": "6dba8315-da4d-444f-b3d2-bceac7695c09",
   "metadata": {},
   "outputs": [
    {
     "data": {
      "text/plain": [
       "'This Is A Laungauge Programing'"
      ]
     },
     "execution_count": 133,
     "metadata": {},
     "output_type": "execute_result"
    }
   ],
   "source": [
    "n. title()             "
   ]
  },
  {
   "cell_type": "markdown",
   "id": "f327204d-c87c-42ee-92a6-cf01afec80e9",
   "metadata": {},
   "source": [
    "a+1"
   ]
  },
  {
   "cell_type": "code",
   "execution_count": 134,
   "id": "e68220d0-2bf3-457c-b5ef-a8910324e99c",
   "metadata": {},
   "outputs": [
    {
     "name": "stdout",
     "output_type": "stream",
     "text": [
      "10\n"
     ]
    }
   ],
   "source": [
    "print(a)"
   ]
  },
  {
   "cell_type": "code",
   "execution_count": 135,
   "id": "2de85839-e1c0-4bbc-8f9b-9bd5033f416e",
   "metadata": {},
   "outputs": [
    {
     "data": {
      "text/plain": [
       "11"
      ]
     },
     "execution_count": 135,
     "metadata": {},
     "output_type": "execute_result"
    }
   ],
   "source": [
    "a+1"
   ]
  },
  {
   "cell_type": "code",
   "execution_count": 141,
   "id": "e4782ce4-b7db-44aa-9e98-2eb06c4975df",
   "metadata": {},
   "outputs": [
    {
     "data": {
      "text/plain": [
       "'this is a laungauge programingthis is a laungauge programing'"
      ]
     },
     "execution_count": 141,
     "metadata": {},
     "output_type": "execute_result"
    }
   ],
   "source": [
    "n+ n"
   ]
  },
  {
   "cell_type": "code",
   "execution_count": 145,
   "id": "97747338-9ac9-4c4f-afb1-4c2926b32497",
   "metadata": {},
   "outputs": [],
   "source": [
    "m= 'this'"
   ]
  },
  {
   "cell_type": "code",
   "execution_count": 146,
   "id": "ceedbf61-a9ed-4205-9937-5130cdea2a37",
   "metadata": {},
   "outputs": [
    {
     "name": "stdout",
     "output_type": "stream",
     "text": [
      "this\n"
     ]
    }
   ],
   "source": [
    "print(m)"
   ]
  },
  {
   "cell_type": "code",
   "execution_count": 147,
   "id": "eaf58039-b901-4265-bb6c-d50457b34caf",
   "metadata": {},
   "outputs": [
    {
     "data": {
      "text/plain": [
       "'this is a laungauge programingthis'"
      ]
     },
     "execution_count": 147,
     "metadata": {},
     "output_type": "execute_result"
    }
   ],
   "source": [
    "n+m"
   ]
  },
  {
   "cell_type": "code",
   "execution_count": null,
   "id": "f31d40ef-5ad1-4c1a-a3fd-291ce7e79da5",
   "metadata": {},
   "outputs": [],
   "source": []
  }
 ],
 "metadata": {
  "kernelspec": {
   "display_name": "Python 3 (ipykernel)",
   "language": "python",
   "name": "python3"
  },
  "language_info": {
   "codemirror_mode": {
    "name": "ipython",
    "version": 3
   },
   "file_extension": ".py",
   "mimetype": "text/x-python",
   "name": "python",
   "nbconvert_exporter": "python",
   "pygments_lexer": "ipython3",
   "version": "3.10.8"
  }
 },
 "nbformat": 4,
 "nbformat_minor": 5
}
